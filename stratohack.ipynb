{
  "cells": [
    {
      "cell_type": "markdown",
      "id": "8hRU8IkYxhsB",
      "metadata": {
        "id": "8hRU8IkYxhsB"
      },
      "source": [
        "# Imports"
      ]
    },
    {
      "cell_type": "code",
      "execution_count": 63,
      "id": "Go8Ud1Nsxttu",
      "metadata": {
        "id": "Go8Ud1Nsxttu"
      },
      "outputs": [],
      "source": [
        "import tensorflow as tf\n",
        "import numpy as np\n",
        "import pandas as pd\n",
        "import matplotlib.pyplot as plt\n",
        "import seaborn as sns\n",
        "\n",
        "from tensorflow.keras import Sequential\n",
        "from tensorflow.keras.layers import Dense, Normalization, InputLayer, Dropout, BatchNormalization\n",
        "from tensorflow.keras.optimizers import Adam\n",
        "\n",
        "from sklearn.model_selection import train_test_split\n",
        "from sklearn.preprocessing import MinMaxScaler\n",
        "from sklearn.ensemble import RandomForestRegressor\n",
        "from sklearn.metrics import mean_absolute_error, mean_squared_error, r2_score\n",
        "\n",
        "import xgboost as xgb"
      ]
    },
    {
      "cell_type": "code",
      "execution_count": 26,
      "id": "379f9f48",
      "metadata": {
        "colab": {
          "base_uri": "https://localhost:8080/",
          "height": 281
        },
        "id": "379f9f48",
        "outputId": "257b6bf5-d897-41a0-b206-f69b87ab635d"
      },
      "outputs": [
        {
          "data": {
            "application/vnd.microsoft.datawrangler.viewer.v0+json": {
              "columns": [
                {
                  "name": "index",
                  "rawType": "int64",
                  "type": "integer"
                },
                {
                  "name": "airline",
                  "rawType": "object",
                  "type": "string"
                },
                {
                  "name": "source_city",
                  "rawType": "object",
                  "type": "string"
                },
                {
                  "name": "departure_time",
                  "rawType": "object",
                  "type": "string"
                },
                {
                  "name": "stops",
                  "rawType": "object",
                  "type": "string"
                },
                {
                  "name": "arrival_time",
                  "rawType": "object",
                  "type": "string"
                },
                {
                  "name": "destination_city",
                  "rawType": "object",
                  "type": "string"
                },
                {
                  "name": "class",
                  "rawType": "object",
                  "type": "string"
                },
                {
                  "name": "duration",
                  "rawType": "float64",
                  "type": "float"
                },
                {
                  "name": "days_left",
                  "rawType": "int64",
                  "type": "integer"
                },
                {
                  "name": "price",
                  "rawType": "int64",
                  "type": "integer"
                }
              ],
              "ref": "5d37c9b1-05f5-489b-8909-d6c8d50354af",
              "rows": [
                [
                  "0",
                  "SpiceJet",
                  "Delhi",
                  "Evening",
                  "zero",
                  "Night",
                  "Mumbai",
                  "Economy",
                  "2.17",
                  "1",
                  "5953"
                ],
                [
                  "1",
                  "SpiceJet",
                  "Delhi",
                  "Early_Morning",
                  "zero",
                  "Morning",
                  "Mumbai",
                  "Economy",
                  "2.33",
                  "1",
                  "5953"
                ],
                [
                  "2",
                  "AirAsia",
                  "Delhi",
                  "Early_Morning",
                  "zero",
                  "Early_Morning",
                  "Mumbai",
                  "Economy",
                  "2.17",
                  "1",
                  "5956"
                ],
                [
                  "3",
                  "Vistara",
                  "Delhi",
                  "Morning",
                  "zero",
                  "Afternoon",
                  "Mumbai",
                  "Economy",
                  "2.25",
                  "1",
                  "5955"
                ],
                [
                  "4",
                  "Vistara",
                  "Delhi",
                  "Morning",
                  "zero",
                  "Morning",
                  "Mumbai",
                  "Economy",
                  "2.33",
                  "1",
                  "5955"
                ]
              ],
              "shape": {
                "columns": 10,
                "rows": 5
              }
            },
            "text/html": [
              "<div>\n",
              "<style scoped>\n",
              "    .dataframe tbody tr th:only-of-type {\n",
              "        vertical-align: middle;\n",
              "    }\n",
              "\n",
              "    .dataframe tbody tr th {\n",
              "        vertical-align: top;\n",
              "    }\n",
              "\n",
              "    .dataframe thead th {\n",
              "        text-align: right;\n",
              "    }\n",
              "</style>\n",
              "<table border=\"1\" class=\"dataframe\">\n",
              "  <thead>\n",
              "    <tr style=\"text-align: right;\">\n",
              "      <th></th>\n",
              "      <th>airline</th>\n",
              "      <th>source_city</th>\n",
              "      <th>departure_time</th>\n",
              "      <th>stops</th>\n",
              "      <th>arrival_time</th>\n",
              "      <th>destination_city</th>\n",
              "      <th>class</th>\n",
              "      <th>duration</th>\n",
              "      <th>days_left</th>\n",
              "      <th>price</th>\n",
              "    </tr>\n",
              "  </thead>\n",
              "  <tbody>\n",
              "    <tr>\n",
              "      <th>0</th>\n",
              "      <td>SpiceJet</td>\n",
              "      <td>Delhi</td>\n",
              "      <td>Evening</td>\n",
              "      <td>zero</td>\n",
              "      <td>Night</td>\n",
              "      <td>Mumbai</td>\n",
              "      <td>Economy</td>\n",
              "      <td>2.17</td>\n",
              "      <td>1</td>\n",
              "      <td>5953</td>\n",
              "    </tr>\n",
              "    <tr>\n",
              "      <th>1</th>\n",
              "      <td>SpiceJet</td>\n",
              "      <td>Delhi</td>\n",
              "      <td>Early_Morning</td>\n",
              "      <td>zero</td>\n",
              "      <td>Morning</td>\n",
              "      <td>Mumbai</td>\n",
              "      <td>Economy</td>\n",
              "      <td>2.33</td>\n",
              "      <td>1</td>\n",
              "      <td>5953</td>\n",
              "    </tr>\n",
              "    <tr>\n",
              "      <th>2</th>\n",
              "      <td>AirAsia</td>\n",
              "      <td>Delhi</td>\n",
              "      <td>Early_Morning</td>\n",
              "      <td>zero</td>\n",
              "      <td>Early_Morning</td>\n",
              "      <td>Mumbai</td>\n",
              "      <td>Economy</td>\n",
              "      <td>2.17</td>\n",
              "      <td>1</td>\n",
              "      <td>5956</td>\n",
              "    </tr>\n",
              "    <tr>\n",
              "      <th>3</th>\n",
              "      <td>Vistara</td>\n",
              "      <td>Delhi</td>\n",
              "      <td>Morning</td>\n",
              "      <td>zero</td>\n",
              "      <td>Afternoon</td>\n",
              "      <td>Mumbai</td>\n",
              "      <td>Economy</td>\n",
              "      <td>2.25</td>\n",
              "      <td>1</td>\n",
              "      <td>5955</td>\n",
              "    </tr>\n",
              "    <tr>\n",
              "      <th>4</th>\n",
              "      <td>Vistara</td>\n",
              "      <td>Delhi</td>\n",
              "      <td>Morning</td>\n",
              "      <td>zero</td>\n",
              "      <td>Morning</td>\n",
              "      <td>Mumbai</td>\n",
              "      <td>Economy</td>\n",
              "      <td>2.33</td>\n",
              "      <td>1</td>\n",
              "      <td>5955</td>\n",
              "    </tr>\n",
              "  </tbody>\n",
              "</table>\n",
              "</div>"
            ],
            "text/plain": [
              "    airline source_city departure_time stops   arrival_time destination_city  \\\n",
              "0  SpiceJet       Delhi        Evening  zero          Night           Mumbai   \n",
              "1  SpiceJet       Delhi  Early_Morning  zero        Morning           Mumbai   \n",
              "2   AirAsia       Delhi  Early_Morning  zero  Early_Morning           Mumbai   \n",
              "3   Vistara       Delhi        Morning  zero      Afternoon           Mumbai   \n",
              "4   Vistara       Delhi        Morning  zero        Morning           Mumbai   \n",
              "\n",
              "     class  duration  days_left  price  \n",
              "0  Economy      2.17          1   5953  \n",
              "1  Economy      2.33          1   5953  \n",
              "2  Economy      2.17          1   5956  \n",
              "3  Economy      2.25          1   5955  \n",
              "4  Economy      2.33          1   5955  "
            ]
          },
          "execution_count": 26,
          "metadata": {},
          "output_type": "execute_result"
        }
      ],
      "source": [
        "df = pd.read_csv('Clean_Dataset.csv')\n",
        "\n",
        "df = df.drop(['Unnamed: 0', 'flight'], axis=1)\n",
        "df.head()"
      ]
    },
    {
      "cell_type": "code",
      "execution_count": 68,
      "id": "f8e7ff0a",
      "metadata": {},
      "outputs": [],
      "source": [
        "def plot_predictions(y_true, y_pred):\n",
        "    plt.figure(figsize=(10, 6))\n",
        "    plt.scatter(y_true, predictions, alpha=0.2)\n",
        "    plt.xlabel(\"Actual Prices\")\n",
        "    plt.ylabel(\"Predicted Prices\")\n",
        "    plt.title(\"Actual vs. Predicted Prices\")\n",
        "    plt.grid(True)\n",
        "\n",
        "    # Add the y=x line\n",
        "    plt.plot([y_true.min(), y_true.max()], [y_true.min(), y_true.max()], 'k--', lw=2)\n",
        "\n",
        "    plt.show()"
      ]
    },
    {
      "cell_type": "markdown",
      "id": "oxTTQf58LBJz",
      "metadata": {
        "id": "oxTTQf58LBJz"
      },
      "source": [
        "# Data Manipulation"
      ]
    },
    {
      "cell_type": "code",
      "execution_count": 27,
      "id": "eeBSvDU4KBSV",
      "metadata": {
        "id": "eeBSvDU4KBSV"
      },
      "outputs": [],
      "source": [
        "def convertStops(stops):\n",
        "    if stops=='zero':\n",
        "        return 0\n",
        "    elif stops=='one':\n",
        "        return 1\n",
        "    else:\n",
        "        return 2"
      ]
    },
    {
      "cell_type": "code",
      "execution_count": 28,
      "id": "HCNYosTOK-h1",
      "metadata": {
        "colab": {
          "base_uri": "https://localhost:8080/",
          "height": 226
        },
        "id": "HCNYosTOK-h1",
        "outputId": "b6903f61-664a-4411-ad93-18efbe4ac644"
      },
      "outputs": [
        {
          "data": {
            "application/vnd.microsoft.datawrangler.viewer.v0+json": {
              "columns": [
                {
                  "name": "index",
                  "rawType": "int64",
                  "type": "integer"
                },
                {
                  "name": "airline",
                  "rawType": "object",
                  "type": "string"
                },
                {
                  "name": "source_city",
                  "rawType": "object",
                  "type": "string"
                },
                {
                  "name": "departure_time",
                  "rawType": "object",
                  "type": "string"
                },
                {
                  "name": "arrival_time",
                  "rawType": "object",
                  "type": "string"
                },
                {
                  "name": "destination_city",
                  "rawType": "object",
                  "type": "string"
                },
                {
                  "name": "class",
                  "rawType": "object",
                  "type": "string"
                },
                {
                  "name": "duration",
                  "rawType": "float64",
                  "type": "float"
                },
                {
                  "name": "days_left",
                  "rawType": "int64",
                  "type": "integer"
                },
                {
                  "name": "price",
                  "rawType": "int64",
                  "type": "integer"
                },
                {
                  "name": "stops_mapped",
                  "rawType": "int64",
                  "type": "integer"
                }
              ],
              "ref": "b9c24299-9ad7-4dc5-abe3-b9fce374a104",
              "rows": [
                [
                  "246298",
                  "Vistara",
                  "Bangalore",
                  "Early_Morning",
                  "Afternoon",
                  "Delhi",
                  "Business",
                  "6.0",
                  "20",
                  "54841",
                  "1"
                ],
                [
                  "95735",
                  "Indigo",
                  "Bangalore",
                  "Early_Morning",
                  "Afternoon",
                  "Mumbai",
                  "Economy",
                  "7.42",
                  "12",
                  "6548",
                  "1"
                ],
                [
                  "206786",
                  "Vistara",
                  "Delhi",
                  "Evening",
                  "Afternoon",
                  "Mumbai",
                  "Business",
                  "19.5",
                  "2",
                  "79977",
                  "1"
                ],
                [
                  "282617",
                  "Vistara",
                  "Hyderabad",
                  "Night",
                  "Night",
                  "Bangalore",
                  "Business",
                  "23.33",
                  "43",
                  "41974",
                  "1"
                ],
                [
                  "105853",
                  "GO_FIRST",
                  "Bangalore",
                  "Early_Morning",
                  "Afternoon",
                  "Kolkata",
                  "Economy",
                  "5.0",
                  "24",
                  "4162",
                  "1"
                ]
              ],
              "shape": {
                "columns": 10,
                "rows": 5
              }
            },
            "text/html": [
              "<div>\n",
              "<style scoped>\n",
              "    .dataframe tbody tr th:only-of-type {\n",
              "        vertical-align: middle;\n",
              "    }\n",
              "\n",
              "    .dataframe tbody tr th {\n",
              "        vertical-align: top;\n",
              "    }\n",
              "\n",
              "    .dataframe thead th {\n",
              "        text-align: right;\n",
              "    }\n",
              "</style>\n",
              "<table border=\"1\" class=\"dataframe\">\n",
              "  <thead>\n",
              "    <tr style=\"text-align: right;\">\n",
              "      <th></th>\n",
              "      <th>airline</th>\n",
              "      <th>source_city</th>\n",
              "      <th>departure_time</th>\n",
              "      <th>arrival_time</th>\n",
              "      <th>destination_city</th>\n",
              "      <th>class</th>\n",
              "      <th>duration</th>\n",
              "      <th>days_left</th>\n",
              "      <th>price</th>\n",
              "      <th>stops_mapped</th>\n",
              "    </tr>\n",
              "  </thead>\n",
              "  <tbody>\n",
              "    <tr>\n",
              "      <th>246298</th>\n",
              "      <td>Vistara</td>\n",
              "      <td>Bangalore</td>\n",
              "      <td>Early_Morning</td>\n",
              "      <td>Afternoon</td>\n",
              "      <td>Delhi</td>\n",
              "      <td>Business</td>\n",
              "      <td>6.00</td>\n",
              "      <td>20</td>\n",
              "      <td>54841</td>\n",
              "      <td>1</td>\n",
              "    </tr>\n",
              "    <tr>\n",
              "      <th>95735</th>\n",
              "      <td>Indigo</td>\n",
              "      <td>Bangalore</td>\n",
              "      <td>Early_Morning</td>\n",
              "      <td>Afternoon</td>\n",
              "      <td>Mumbai</td>\n",
              "      <td>Economy</td>\n",
              "      <td>7.42</td>\n",
              "      <td>12</td>\n",
              "      <td>6548</td>\n",
              "      <td>1</td>\n",
              "    </tr>\n",
              "    <tr>\n",
              "      <th>206786</th>\n",
              "      <td>Vistara</td>\n",
              "      <td>Delhi</td>\n",
              "      <td>Evening</td>\n",
              "      <td>Afternoon</td>\n",
              "      <td>Mumbai</td>\n",
              "      <td>Business</td>\n",
              "      <td>19.50</td>\n",
              "      <td>2</td>\n",
              "      <td>79977</td>\n",
              "      <td>1</td>\n",
              "    </tr>\n",
              "    <tr>\n",
              "      <th>282617</th>\n",
              "      <td>Vistara</td>\n",
              "      <td>Hyderabad</td>\n",
              "      <td>Night</td>\n",
              "      <td>Night</td>\n",
              "      <td>Bangalore</td>\n",
              "      <td>Business</td>\n",
              "      <td>23.33</td>\n",
              "      <td>43</td>\n",
              "      <td>41974</td>\n",
              "      <td>1</td>\n",
              "    </tr>\n",
              "    <tr>\n",
              "      <th>105853</th>\n",
              "      <td>GO_FIRST</td>\n",
              "      <td>Bangalore</td>\n",
              "      <td>Early_Morning</td>\n",
              "      <td>Afternoon</td>\n",
              "      <td>Kolkata</td>\n",
              "      <td>Economy</td>\n",
              "      <td>5.00</td>\n",
              "      <td>24</td>\n",
              "      <td>4162</td>\n",
              "      <td>1</td>\n",
              "    </tr>\n",
              "  </tbody>\n",
              "</table>\n",
              "</div>"
            ],
            "text/plain": [
              "         airline source_city departure_time arrival_time destination_city  \\\n",
              "246298   Vistara   Bangalore  Early_Morning    Afternoon            Delhi   \n",
              "95735     Indigo   Bangalore  Early_Morning    Afternoon           Mumbai   \n",
              "206786   Vistara       Delhi        Evening    Afternoon           Mumbai   \n",
              "282617   Vistara   Hyderabad          Night        Night        Bangalore   \n",
              "105853  GO_FIRST   Bangalore  Early_Morning    Afternoon          Kolkata   \n",
              "\n",
              "           class  duration  days_left  price  stops_mapped  \n",
              "246298  Business      6.00         20  54841             1  \n",
              "95735    Economy      7.42         12   6548             1  \n",
              "206786  Business     19.50          2  79977             1  \n",
              "282617  Business     23.33         43  41974             1  \n",
              "105853   Economy      5.00         24   4162             1  "
            ]
          },
          "execution_count": 28,
          "metadata": {},
          "output_type": "execute_result"
        }
      ],
      "source": [
        "df['stops_mapped'] = df['stops'].apply(convertStops)\n",
        "df.drop('stops', axis=1, inplace=True)\n",
        "df.sample(5)"
      ]
    },
    {
      "cell_type": "code",
      "execution_count": 29,
      "id": "YBKDgdhmR5Ck",
      "metadata": {
        "colab": {
          "base_uri": "https://localhost:8080/"
        },
        "id": "YBKDgdhmR5Ck",
        "outputId": "405841fa-d481-4249-ce53-14e9b600d714"
      },
      "outputs": [
        {
          "data": {
            "text/plain": [
              "np.float64(0.1196484707241398)"
            ]
          },
          "execution_count": 29,
          "metadata": {},
          "output_type": "execute_result"
        }
      ],
      "source": [
        "df['stops_mapped'].corr(df['price'])"
      ]
    },
    {
      "cell_type": "code",
      "execution_count": 30,
      "id": "q-mkbUakLQTz",
      "metadata": {
        "colab": {
          "base_uri": "https://localhost:8080/",
          "height": 303
        },
        "id": "q-mkbUakLQTz",
        "outputId": "3d71a455-359e-49ad-8664-3dd8a1782de8"
      },
      "outputs": [
        {
          "data": {
            "application/vnd.microsoft.datawrangler.viewer.v0+json": {
              "columns": [
                {
                  "name": "airline",
                  "rawType": "object",
                  "type": "string"
                },
                {
                  "name": "price",
                  "rawType": "float64",
                  "type": "float"
                }
              ],
              "ref": "f859912d-f842-42d5-91c7-cbfa5aac1927",
              "rows": [
                [
                  "AirAsia",
                  "4091.0727419555224"
                ],
                [
                  "Air_India",
                  "23507.01911190229"
                ],
                [
                  "GO_FIRST",
                  "5652.007595045959"
                ],
                [
                  "Indigo",
                  "5324.216303339517"
                ],
                [
                  "SpiceJet",
                  "6179.278881367218"
                ],
                [
                  "Vistara",
                  "30396.53630170735"
                ]
              ],
              "shape": {
                "columns": 1,
                "rows": 6
              }
            },
            "text/plain": [
              "airline\n",
              "AirAsia       4091.072742\n",
              "Air_India    23507.019112\n",
              "GO_FIRST      5652.007595\n",
              "Indigo        5324.216303\n",
              "SpiceJet      6179.278881\n",
              "Vistara      30396.536302\n",
              "Name: price, dtype: float64"
            ]
          },
          "execution_count": 30,
          "metadata": {},
          "output_type": "execute_result"
        }
      ],
      "source": [
        "df.groupby('airline')['price'].mean()"
      ]
    },
    {
      "cell_type": "code",
      "execution_count": 31,
      "id": "7eCPTxMAMJaB",
      "metadata": {
        "colab": {
          "base_uri": "https://localhost:8080/",
          "height": 226
        },
        "id": "7eCPTxMAMJaB",
        "outputId": "79282b69-549e-4333-8c13-d9f154a16e54"
      },
      "outputs": [
        {
          "data": {
            "application/vnd.microsoft.datawrangler.viewer.v0+json": {
              "columns": [
                {
                  "name": "index",
                  "rawType": "int64",
                  "type": "integer"
                },
                {
                  "name": "source_city",
                  "rawType": "object",
                  "type": "string"
                },
                {
                  "name": "departure_time",
                  "rawType": "object",
                  "type": "string"
                },
                {
                  "name": "arrival_time",
                  "rawType": "object",
                  "type": "string"
                },
                {
                  "name": "destination_city",
                  "rawType": "object",
                  "type": "string"
                },
                {
                  "name": "class",
                  "rawType": "object",
                  "type": "string"
                },
                {
                  "name": "duration",
                  "rawType": "float64",
                  "type": "float"
                },
                {
                  "name": "days_left",
                  "rawType": "int64",
                  "type": "integer"
                },
                {
                  "name": "price",
                  "rawType": "int64",
                  "type": "integer"
                },
                {
                  "name": "stops_mapped",
                  "rawType": "int64",
                  "type": "integer"
                },
                {
                  "name": "airline_mapped",
                  "rawType": "int64",
                  "type": "integer"
                }
              ],
              "ref": "f2a1bf14-ec6d-4bd9-9e90-87f4bb8e693e",
              "rows": [
                [
                  "142218",
                  "Kolkata",
                  "Morning",
                  "Morning",
                  "Bangalore",
                  "Economy",
                  "2.5",
                  "48",
                  "3862",
                  "0",
                  "1"
                ],
                [
                  "28474",
                  "Delhi",
                  "Early_Morning",
                  "Early_Morning",
                  "Kolkata",
                  "Economy",
                  "2.08",
                  "48",
                  "3999",
                  "0",
                  "2"
                ],
                [
                  "152133",
                  "Kolkata",
                  "Morning",
                  "Night",
                  "Chennai",
                  "Economy",
                  "13.17",
                  "44",
                  "5390",
                  "1",
                  "4"
                ],
                [
                  "213864",
                  "Delhi",
                  "Evening",
                  "Morning",
                  "Bangalore",
                  "Business",
                  "16.17",
                  "25",
                  "42457",
                  "1",
                  "4"
                ],
                [
                  "129283",
                  "Kolkata",
                  "Early_Morning",
                  "Evening",
                  "Mumbai",
                  "Economy",
                  "10.58",
                  "14",
                  "7958",
                  "1",
                  "2"
                ]
              ],
              "shape": {
                "columns": 10,
                "rows": 5
              }
            },
            "text/html": [
              "<div>\n",
              "<style scoped>\n",
              "    .dataframe tbody tr th:only-of-type {\n",
              "        vertical-align: middle;\n",
              "    }\n",
              "\n",
              "    .dataframe tbody tr th {\n",
              "        vertical-align: top;\n",
              "    }\n",
              "\n",
              "    .dataframe thead th {\n",
              "        text-align: right;\n",
              "    }\n",
              "</style>\n",
              "<table border=\"1\" class=\"dataframe\">\n",
              "  <thead>\n",
              "    <tr style=\"text-align: right;\">\n",
              "      <th></th>\n",
              "      <th>source_city</th>\n",
              "      <th>departure_time</th>\n",
              "      <th>arrival_time</th>\n",
              "      <th>destination_city</th>\n",
              "      <th>class</th>\n",
              "      <th>duration</th>\n",
              "      <th>days_left</th>\n",
              "      <th>price</th>\n",
              "      <th>stops_mapped</th>\n",
              "      <th>airline_mapped</th>\n",
              "    </tr>\n",
              "  </thead>\n",
              "  <tbody>\n",
              "    <tr>\n",
              "      <th>142218</th>\n",
              "      <td>Kolkata</td>\n",
              "      <td>Morning</td>\n",
              "      <td>Morning</td>\n",
              "      <td>Bangalore</td>\n",
              "      <td>Economy</td>\n",
              "      <td>2.50</td>\n",
              "      <td>48</td>\n",
              "      <td>3862</td>\n",
              "      <td>0</td>\n",
              "      <td>1</td>\n",
              "    </tr>\n",
              "    <tr>\n",
              "      <th>28474</th>\n",
              "      <td>Delhi</td>\n",
              "      <td>Early_Morning</td>\n",
              "      <td>Early_Morning</td>\n",
              "      <td>Kolkata</td>\n",
              "      <td>Economy</td>\n",
              "      <td>2.08</td>\n",
              "      <td>48</td>\n",
              "      <td>3999</td>\n",
              "      <td>0</td>\n",
              "      <td>2</td>\n",
              "    </tr>\n",
              "    <tr>\n",
              "      <th>152133</th>\n",
              "      <td>Kolkata</td>\n",
              "      <td>Morning</td>\n",
              "      <td>Night</td>\n",
              "      <td>Chennai</td>\n",
              "      <td>Economy</td>\n",
              "      <td>13.17</td>\n",
              "      <td>44</td>\n",
              "      <td>5390</td>\n",
              "      <td>1</td>\n",
              "      <td>4</td>\n",
              "    </tr>\n",
              "    <tr>\n",
              "      <th>213864</th>\n",
              "      <td>Delhi</td>\n",
              "      <td>Evening</td>\n",
              "      <td>Morning</td>\n",
              "      <td>Bangalore</td>\n",
              "      <td>Business</td>\n",
              "      <td>16.17</td>\n",
              "      <td>25</td>\n",
              "      <td>42457</td>\n",
              "      <td>1</td>\n",
              "      <td>4</td>\n",
              "    </tr>\n",
              "    <tr>\n",
              "      <th>129283</th>\n",
              "      <td>Kolkata</td>\n",
              "      <td>Early_Morning</td>\n",
              "      <td>Evening</td>\n",
              "      <td>Mumbai</td>\n",
              "      <td>Economy</td>\n",
              "      <td>10.58</td>\n",
              "      <td>14</td>\n",
              "      <td>7958</td>\n",
              "      <td>1</td>\n",
              "      <td>2</td>\n",
              "    </tr>\n",
              "  </tbody>\n",
              "</table>\n",
              "</div>"
            ],
            "text/plain": [
              "       source_city departure_time   arrival_time destination_city     class  \\\n",
              "142218     Kolkata        Morning        Morning        Bangalore   Economy   \n",
              "28474        Delhi  Early_Morning  Early_Morning          Kolkata   Economy   \n",
              "152133     Kolkata        Morning          Night          Chennai   Economy   \n",
              "213864       Delhi        Evening        Morning        Bangalore  Business   \n",
              "129283     Kolkata  Early_Morning        Evening           Mumbai   Economy   \n",
              "\n",
              "        duration  days_left  price  stops_mapped  airline_mapped  \n",
              "142218      2.50         48   3862             0               1  \n",
              "28474       2.08         48   3999             0               2  \n",
              "152133     13.17         44   5390             1               4  \n",
              "213864     16.17         25  42457             1               4  \n",
              "129283     10.58         14   7958             1               2  "
            ]
          },
          "execution_count": 31,
          "metadata": {},
          "output_type": "execute_result"
        }
      ],
      "source": [
        "airline_map = {'AirAsia':0, 'Indigo':1, 'GO_FIRST':2, 'SpiceJet':3, 'Air_India':4, 'Vistara':5}\n",
        "df['airline_mapped'] = df['airline'].map(airline_map)\n",
        "df.drop('airline', axis=1, inplace=True)\n",
        "df.sample(5)"
      ]
    },
    {
      "cell_type": "code",
      "execution_count": 32,
      "id": "0ZHSdlvfRVPv",
      "metadata": {
        "colab": {
          "base_uri": "https://localhost:8080/",
          "height": 1000
        },
        "id": "0ZHSdlvfRVPv",
        "outputId": "1893557f-ad26-4a02-a00a-e0a582a9d6bf"
      },
      "outputs": [
        {
          "data": {
            "application/vnd.microsoft.datawrangler.viewer.v0+json": {
              "columns": [
                {
                  "name": "route",
                  "rawType": "object",
                  "type": "string"
                },
                {
                  "name": "price",
                  "rawType": "float64",
                  "type": "float"
                }
              ],
              "ref": "d2792c3f-0384-4fcd-8d1b-9dc22f1dd4c4",
              "rows": [
                [
                  "Bangalore-Chennai",
                  "23321.85007800312"
                ],
                [
                  "Bangalore-Delhi",
                  "17723.313972084907"
                ],
                [
                  "Bangalore-Hyderabad",
                  "21226.121191756272"
                ],
                [
                  "Bangalore-Kolkata",
                  "23500.061228560033"
                ],
                [
                  "Bangalore-Mumbai",
                  "23128.618672231238"
                ],
                [
                  "Chennai-Bangalore",
                  "25081.85045433544"
                ],
                [
                  "Chennai-Delhi",
                  "18981.863947664315"
                ],
                [
                  "Chennai-Hyderabad",
                  "21591.345403899722"
                ],
                [
                  "Chennai-Kolkata",
                  "22669.93240727481"
                ],
                [
                  "Chennai-Mumbai",
                  "22765.849646605267"
                ],
                [
                  "Delhi-Bangalore",
                  "17880.216314587495"
                ],
                [
                  "Delhi-Chennai",
                  "19369.881354359924"
                ],
                [
                  "Delhi-Hyderabad",
                  "17347.288379073758"
                ],
                [
                  "Delhi-Kolkata",
                  "20566.409418468244"
                ],
                [
                  "Delhi-Mumbai",
                  "19355.82981228334"
                ],
                [
                  "Hyderabad-Bangalore",
                  "21347.177998472118"
                ],
                [
                  "Hyderabad-Chennai",
                  "21848.06598905395"
                ],
                [
                  "Hyderabad-Delhi",
                  "17243.945685398543"
                ],
                [
                  "Hyderabad-Kolkata",
                  "20823.89320145236"
                ],
                [
                  "Hyderabad-Mumbai",
                  "20080.865759141496"
                ],
                [
                  "Kolkata-Bangalore",
                  "22744.80842833876"
                ],
                [
                  "Kolkata-Chennai",
                  "23660.36104013227"
                ],
                [
                  "Kolkata-Delhi",
                  "19422.35455929945"
                ],
                [
                  "Kolkata-Hyderabad",
                  "21500.011396732938"
                ],
                [
                  "Kolkata-Mumbai",
                  "22078.883578965728"
                ],
                [
                  "Mumbai-Bangalore",
                  "23147.87380675204"
                ],
                [
                  "Mumbai-Chennai",
                  "22781.89911154985"
                ],
                [
                  "Mumbai-Delhi",
                  "18725.32000810318"
                ],
                [
                  "Mumbai-Hyderabad",
                  "21004.04670487106"
                ],
                [
                  "Mumbai-Kolkata",
                  "22379.146722742422"
                ]
              ],
              "shape": {
                "columns": 1,
                "rows": 30
              }
            },
            "text/plain": [
              "route\n",
              "Bangalore-Chennai      23321.850078\n",
              "Bangalore-Delhi        17723.313972\n",
              "Bangalore-Hyderabad    21226.121192\n",
              "Bangalore-Kolkata      23500.061229\n",
              "Bangalore-Mumbai       23128.618672\n",
              "Chennai-Bangalore      25081.850454\n",
              "Chennai-Delhi          18981.863948\n",
              "Chennai-Hyderabad      21591.345404\n",
              "Chennai-Kolkata        22669.932407\n",
              "Chennai-Mumbai         22765.849647\n",
              "Delhi-Bangalore        17880.216315\n",
              "Delhi-Chennai          19369.881354\n",
              "Delhi-Hyderabad        17347.288379\n",
              "Delhi-Kolkata          20566.409418\n",
              "Delhi-Mumbai           19355.829812\n",
              "Hyderabad-Bangalore    21347.177998\n",
              "Hyderabad-Chennai      21848.065989\n",
              "Hyderabad-Delhi        17243.945685\n",
              "Hyderabad-Kolkata      20823.893201\n",
              "Hyderabad-Mumbai       20080.865759\n",
              "Kolkata-Bangalore      22744.808428\n",
              "Kolkata-Chennai        23660.361040\n",
              "Kolkata-Delhi          19422.354559\n",
              "Kolkata-Hyderabad      21500.011397\n",
              "Kolkata-Mumbai         22078.883579\n",
              "Mumbai-Bangalore       23147.873807\n",
              "Mumbai-Chennai         22781.899112\n",
              "Mumbai-Delhi           18725.320008\n",
              "Mumbai-Hyderabad       21004.046705\n",
              "Mumbai-Kolkata         22379.146723\n",
              "Name: price, dtype: float64"
            ]
          },
          "execution_count": 32,
          "metadata": {},
          "output_type": "execute_result"
        }
      ],
      "source": [
        "df['route'] = df['source_city'] + '-' + df['destination_city']\n",
        "df.groupby('route')['price'].mean()"
      ]
    },
    {
      "cell_type": "code",
      "execution_count": 33,
      "id": "81f47022",
      "metadata": {
        "colab": {
          "base_uri": "https://localhost:8080/"
        },
        "id": "81f47022",
        "outputId": "2f456f8b-8150-4698-dbc0-d1ff9cd91644"
      },
      "outputs": [
        {
          "name": "stdout",
          "output_type": "stream",
          "text": [
            "{'Hyderabad-Delhi': 0, 'Delhi-Hyderabad': 1, 'Bangalore-Delhi': 2, 'Delhi-Bangalore': 3, 'Mumbai-Delhi': 4, 'Chennai-Delhi': 5, 'Delhi-Mumbai': 6, 'Delhi-Chennai': 7, 'Kolkata-Delhi': 8, 'Hyderabad-Mumbai': 9, 'Delhi-Kolkata': 10, 'Hyderabad-Kolkata': 11, 'Mumbai-Hyderabad': 12, 'Bangalore-Hyderabad': 13, 'Hyderabad-Bangalore': 14, 'Kolkata-Hyderabad': 15, 'Chennai-Hyderabad': 16, 'Hyderabad-Chennai': 17, 'Kolkata-Mumbai': 18, 'Mumbai-Kolkata': 19, 'Chennai-Kolkata': 20, 'Kolkata-Bangalore': 21, 'Chennai-Mumbai': 22, 'Mumbai-Chennai': 23, 'Bangalore-Mumbai': 24, 'Mumbai-Bangalore': 25, 'Bangalore-Chennai': 26, 'Bangalore-Kolkata': 27, 'Kolkata-Chennai': 28, 'Chennai-Bangalore': 29}\n"
          ]
        }
      ],
      "source": [
        "# Calculate the mean price for each route\n",
        "mean_price_by_route = df.groupby('route')['price'].mean()\n",
        "\n",
        "# Sort the routes by their mean price\n",
        "ranked_routes = mean_price_by_route.sort_values(ascending=True)\n",
        "\n",
        "# Create a dictionary mapping each route to its rank (0-based)\n",
        "route_rank_dict = {route: rank for rank, route in enumerate(ranked_routes.index)}\n",
        "\n",
        "# Display the dictionary\n",
        "print(route_rank_dict)"
      ]
    },
    {
      "cell_type": "code",
      "execution_count": 34,
      "id": "In87yUnNSyVi",
      "metadata": {
        "colab": {
          "base_uri": "https://localhost:8080/",
          "height": 226
        },
        "id": "In87yUnNSyVi",
        "outputId": "0ec1eef5-63c6-454b-b572-99e2a08f8f95"
      },
      "outputs": [
        {
          "data": {
            "application/vnd.microsoft.datawrangler.viewer.v0+json": {
              "columns": [
                {
                  "name": "index",
                  "rawType": "int64",
                  "type": "integer"
                },
                {
                  "name": "departure_time",
                  "rawType": "object",
                  "type": "string"
                },
                {
                  "name": "arrival_time",
                  "rawType": "object",
                  "type": "string"
                },
                {
                  "name": "class",
                  "rawType": "object",
                  "type": "string"
                },
                {
                  "name": "duration",
                  "rawType": "float64",
                  "type": "float"
                },
                {
                  "name": "days_left",
                  "rawType": "int64",
                  "type": "integer"
                },
                {
                  "name": "price",
                  "rawType": "int64",
                  "type": "integer"
                },
                {
                  "name": "stops_mapped",
                  "rawType": "int64",
                  "type": "integer"
                },
                {
                  "name": "airline_mapped",
                  "rawType": "int64",
                  "type": "integer"
                },
                {
                  "name": "route_mapped",
                  "rawType": "int64",
                  "type": "integer"
                }
              ],
              "ref": "5298cc32-8d61-4e43-99fe-d75663fa76ac",
              "rows": [
                [
                  "143803",
                  "Afternoon",
                  "Night",
                  "Economy",
                  "5.92",
                  "14",
                  "6594",
                  "1",
                  "3",
                  "15"
                ],
                [
                  "129134",
                  "Morning",
                  "Evening",
                  "Economy",
                  "4.67",
                  "13",
                  "7959",
                  "1",
                  "1",
                  "18"
                ],
                [
                  "280799",
                  "Afternoon",
                  "Night",
                  "Business",
                  "8.0",
                  "12",
                  "38099",
                  "1",
                  "5",
                  "14"
                ],
                [
                  "196239",
                  "Early_Morning",
                  "Evening",
                  "Economy",
                  "10.75",
                  "32",
                  "4755",
                  "1",
                  "5",
                  "29"
                ],
                [
                  "15530",
                  "Evening",
                  "Night",
                  "Economy",
                  "7.0",
                  "28",
                  "7409",
                  "1",
                  "2",
                  "3"
                ]
              ],
              "shape": {
                "columns": 9,
                "rows": 5
              }
            },
            "text/html": [
              "<div>\n",
              "<style scoped>\n",
              "    .dataframe tbody tr th:only-of-type {\n",
              "        vertical-align: middle;\n",
              "    }\n",
              "\n",
              "    .dataframe tbody tr th {\n",
              "        vertical-align: top;\n",
              "    }\n",
              "\n",
              "    .dataframe thead th {\n",
              "        text-align: right;\n",
              "    }\n",
              "</style>\n",
              "<table border=\"1\" class=\"dataframe\">\n",
              "  <thead>\n",
              "    <tr style=\"text-align: right;\">\n",
              "      <th></th>\n",
              "      <th>departure_time</th>\n",
              "      <th>arrival_time</th>\n",
              "      <th>class</th>\n",
              "      <th>duration</th>\n",
              "      <th>days_left</th>\n",
              "      <th>price</th>\n",
              "      <th>stops_mapped</th>\n",
              "      <th>airline_mapped</th>\n",
              "      <th>route_mapped</th>\n",
              "    </tr>\n",
              "  </thead>\n",
              "  <tbody>\n",
              "    <tr>\n",
              "      <th>143803</th>\n",
              "      <td>Afternoon</td>\n",
              "      <td>Night</td>\n",
              "      <td>Economy</td>\n",
              "      <td>5.92</td>\n",
              "      <td>14</td>\n",
              "      <td>6594</td>\n",
              "      <td>1</td>\n",
              "      <td>3</td>\n",
              "      <td>15</td>\n",
              "    </tr>\n",
              "    <tr>\n",
              "      <th>129134</th>\n",
              "      <td>Morning</td>\n",
              "      <td>Evening</td>\n",
              "      <td>Economy</td>\n",
              "      <td>4.67</td>\n",
              "      <td>13</td>\n",
              "      <td>7959</td>\n",
              "      <td>1</td>\n",
              "      <td>1</td>\n",
              "      <td>18</td>\n",
              "    </tr>\n",
              "    <tr>\n",
              "      <th>280799</th>\n",
              "      <td>Afternoon</td>\n",
              "      <td>Night</td>\n",
              "      <td>Business</td>\n",
              "      <td>8.00</td>\n",
              "      <td>12</td>\n",
              "      <td>38099</td>\n",
              "      <td>1</td>\n",
              "      <td>5</td>\n",
              "      <td>14</td>\n",
              "    </tr>\n",
              "    <tr>\n",
              "      <th>196239</th>\n",
              "      <td>Early_Morning</td>\n",
              "      <td>Evening</td>\n",
              "      <td>Economy</td>\n",
              "      <td>10.75</td>\n",
              "      <td>32</td>\n",
              "      <td>4755</td>\n",
              "      <td>1</td>\n",
              "      <td>5</td>\n",
              "      <td>29</td>\n",
              "    </tr>\n",
              "    <tr>\n",
              "      <th>15530</th>\n",
              "      <td>Evening</td>\n",
              "      <td>Night</td>\n",
              "      <td>Economy</td>\n",
              "      <td>7.00</td>\n",
              "      <td>28</td>\n",
              "      <td>7409</td>\n",
              "      <td>1</td>\n",
              "      <td>2</td>\n",
              "      <td>3</td>\n",
              "    </tr>\n",
              "  </tbody>\n",
              "</table>\n",
              "</div>"
            ],
            "text/plain": [
              "       departure_time arrival_time     class  duration  days_left  price  \\\n",
              "143803      Afternoon        Night   Economy      5.92         14   6594   \n",
              "129134        Morning      Evening   Economy      4.67         13   7959   \n",
              "280799      Afternoon        Night  Business      8.00         12  38099   \n",
              "196239  Early_Morning      Evening   Economy     10.75         32   4755   \n",
              "15530         Evening        Night   Economy      7.00         28   7409   \n",
              "\n",
              "        stops_mapped  airline_mapped  route_mapped  \n",
              "143803             1               3            15  \n",
              "129134             1               1            18  \n",
              "280799             1               5            14  \n",
              "196239             1               5            29  \n",
              "15530              1               2             3  "
            ]
          },
          "execution_count": 34,
          "metadata": {},
          "output_type": "execute_result"
        }
      ],
      "source": [
        "df['route_mapped'] = df['route'].map(route_rank_dict)\n",
        "df.drop(['route', 'source_city', 'destination_city'], axis=1, inplace=True)\n",
        "df.sample(5)"
      ]
    },
    {
      "cell_type": "code",
      "execution_count": 35,
      "id": "BUfPWrMvS7ic",
      "metadata": {
        "colab": {
          "base_uri": "https://localhost:8080/"
        },
        "id": "BUfPWrMvS7ic",
        "outputId": "da47ee5a-98d5-4079-f143-24770ea5fb80"
      },
      "outputs": [
        {
          "data": {
            "text/plain": [
              "np.float64(0.08943922270058315)"
            ]
          },
          "execution_count": 35,
          "metadata": {},
          "output_type": "execute_result"
        }
      ],
      "source": [
        "df['route_mapped'].corr(df['price'])"
      ]
    },
    {
      "cell_type": "code",
      "execution_count": 36,
      "id": "tIQRHKCWTb0d",
      "metadata": {
        "colab": {
          "base_uri": "https://localhost:8080/",
          "height": 226
        },
        "id": "tIQRHKCWTb0d",
        "outputId": "423ff062-0501-48d1-a1ad-4fa7311927a2"
      },
      "outputs": [
        {
          "data": {
            "application/vnd.microsoft.datawrangler.viewer.v0+json": {
              "columns": [
                {
                  "name": "index",
                  "rawType": "int64",
                  "type": "integer"
                },
                {
                  "name": "departure_time",
                  "rawType": "object",
                  "type": "string"
                },
                {
                  "name": "arrival_time",
                  "rawType": "object",
                  "type": "string"
                },
                {
                  "name": "duration",
                  "rawType": "float64",
                  "type": "float"
                },
                {
                  "name": "days_left",
                  "rawType": "int64",
                  "type": "integer"
                },
                {
                  "name": "price",
                  "rawType": "int64",
                  "type": "integer"
                },
                {
                  "name": "stops_mapped",
                  "rawType": "int64",
                  "type": "integer"
                },
                {
                  "name": "airline_mapped",
                  "rawType": "int64",
                  "type": "integer"
                },
                {
                  "name": "route_mapped",
                  "rawType": "int64",
                  "type": "integer"
                },
                {
                  "name": "class_mapped",
                  "rawType": "int64",
                  "type": "integer"
                }
              ],
              "ref": "7a14d8a8-7219-49d8-9bfa-7bc22b71db4c",
              "rows": [
                [
                  "174934",
                  "Evening",
                  "Morning",
                  "14.92",
                  "38",
                  "6275",
                  "1",
                  "5",
                  "11",
                  "0"
                ],
                [
                  "105386",
                  "Late_Night",
                  "Early_Morning",
                  "6.75",
                  "21",
                  "3393",
                  "1",
                  "0",
                  "27",
                  "0"
                ],
                [
                  "139209",
                  "Night",
                  "Evening",
                  "20.58",
                  "27",
                  "8111",
                  "1",
                  "5",
                  "21",
                  "0"
                ],
                [
                  "59537",
                  "Afternoon",
                  "Evening",
                  "1.75",
                  "39",
                  "2074",
                  "0",
                  "5",
                  "25",
                  "0"
                ],
                [
                  "63611",
                  "Afternoon",
                  "Afternoon",
                  "25.33",
                  "14",
                  "7412",
                  "1",
                  "3",
                  "19",
                  "0"
                ]
              ],
              "shape": {
                "columns": 9,
                "rows": 5
              }
            },
            "text/html": [
              "<div>\n",
              "<style scoped>\n",
              "    .dataframe tbody tr th:only-of-type {\n",
              "        vertical-align: middle;\n",
              "    }\n",
              "\n",
              "    .dataframe tbody tr th {\n",
              "        vertical-align: top;\n",
              "    }\n",
              "\n",
              "    .dataframe thead th {\n",
              "        text-align: right;\n",
              "    }\n",
              "</style>\n",
              "<table border=\"1\" class=\"dataframe\">\n",
              "  <thead>\n",
              "    <tr style=\"text-align: right;\">\n",
              "      <th></th>\n",
              "      <th>departure_time</th>\n",
              "      <th>arrival_time</th>\n",
              "      <th>duration</th>\n",
              "      <th>days_left</th>\n",
              "      <th>price</th>\n",
              "      <th>stops_mapped</th>\n",
              "      <th>airline_mapped</th>\n",
              "      <th>route_mapped</th>\n",
              "      <th>class_mapped</th>\n",
              "    </tr>\n",
              "  </thead>\n",
              "  <tbody>\n",
              "    <tr>\n",
              "      <th>174934</th>\n",
              "      <td>Evening</td>\n",
              "      <td>Morning</td>\n",
              "      <td>14.92</td>\n",
              "      <td>38</td>\n",
              "      <td>6275</td>\n",
              "      <td>1</td>\n",
              "      <td>5</td>\n",
              "      <td>11</td>\n",
              "      <td>0</td>\n",
              "    </tr>\n",
              "    <tr>\n",
              "      <th>105386</th>\n",
              "      <td>Late_Night</td>\n",
              "      <td>Early_Morning</td>\n",
              "      <td>6.75</td>\n",
              "      <td>21</td>\n",
              "      <td>3393</td>\n",
              "      <td>1</td>\n",
              "      <td>0</td>\n",
              "      <td>27</td>\n",
              "      <td>0</td>\n",
              "    </tr>\n",
              "    <tr>\n",
              "      <th>139209</th>\n",
              "      <td>Night</td>\n",
              "      <td>Evening</td>\n",
              "      <td>20.58</td>\n",
              "      <td>27</td>\n",
              "      <td>8111</td>\n",
              "      <td>1</td>\n",
              "      <td>5</td>\n",
              "      <td>21</td>\n",
              "      <td>0</td>\n",
              "    </tr>\n",
              "    <tr>\n",
              "      <th>59537</th>\n",
              "      <td>Afternoon</td>\n",
              "      <td>Evening</td>\n",
              "      <td>1.75</td>\n",
              "      <td>39</td>\n",
              "      <td>2074</td>\n",
              "      <td>0</td>\n",
              "      <td>5</td>\n",
              "      <td>25</td>\n",
              "      <td>0</td>\n",
              "    </tr>\n",
              "    <tr>\n",
              "      <th>63611</th>\n",
              "      <td>Afternoon</td>\n",
              "      <td>Afternoon</td>\n",
              "      <td>25.33</td>\n",
              "      <td>14</td>\n",
              "      <td>7412</td>\n",
              "      <td>1</td>\n",
              "      <td>3</td>\n",
              "      <td>19</td>\n",
              "      <td>0</td>\n",
              "    </tr>\n",
              "  </tbody>\n",
              "</table>\n",
              "</div>"
            ],
            "text/plain": [
              "       departure_time   arrival_time  duration  days_left  price  \\\n",
              "174934        Evening        Morning     14.92         38   6275   \n",
              "105386     Late_Night  Early_Morning      6.75         21   3393   \n",
              "139209          Night        Evening     20.58         27   8111   \n",
              "59537       Afternoon        Evening      1.75         39   2074   \n",
              "63611       Afternoon      Afternoon     25.33         14   7412   \n",
              "\n",
              "        stops_mapped  airline_mapped  route_mapped  class_mapped  \n",
              "174934             1               5            11             0  \n",
              "105386             1               0            27             0  \n",
              "139209             1               5            21             0  \n",
              "59537              0               5            25             0  \n",
              "63611              1               3            19             0  "
            ]
          },
          "execution_count": 36,
          "metadata": {},
          "output_type": "execute_result"
        }
      ],
      "source": [
        "class_map = {'Economy':0, 'Business':1}\n",
        "df['class_mapped'] = df['class'].map(class_map)\n",
        "df.drop('class', axis=1, inplace=True)\n",
        "df.sample(5)"
      ]
    },
    {
      "cell_type": "code",
      "execution_count": 37,
      "id": "2ijCjLgeThJ6",
      "metadata": {
        "colab": {
          "base_uri": "https://localhost:8080/"
        },
        "id": "2ijCjLgeThJ6",
        "outputId": "ae924e2d-4933-4e52-a6ee-e748a9756185"
      },
      "outputs": [
        {
          "data": {
            "text/plain": [
              "np.float64(0.9378603239059123)"
            ]
          },
          "execution_count": 37,
          "metadata": {},
          "output_type": "execute_result"
        }
      ],
      "source": [
        "df['class_mapped'].corr(df['price'])"
      ]
    },
    {
      "cell_type": "code",
      "execution_count": 38,
      "id": "i6PCT10qUDDS",
      "metadata": {
        "colab": {
          "base_uri": "https://localhost:8080/"
        },
        "id": "i6PCT10qUDDS",
        "outputId": "5a4896cd-0bff-4a59-8a3c-a29cd24c9163"
      },
      "outputs": [
        {
          "data": {
            "text/plain": [
              "array(['Evening', 'Early_Morning', 'Morning', 'Afternoon', 'Night',\n",
              "       'Late_Night'], dtype=object)"
            ]
          },
          "execution_count": 38,
          "metadata": {},
          "output_type": "execute_result"
        }
      ],
      "source": [
        "df.departure_time.unique()"
      ]
    },
    {
      "cell_type": "code",
      "execution_count": 39,
      "id": "idZuixu3UKAD",
      "metadata": {
        "colab": {
          "base_uri": "https://localhost:8080/",
          "height": 303
        },
        "id": "idZuixu3UKAD",
        "outputId": "a50a586b-2e2e-4d4a-f9ab-0b32cf4134ea"
      },
      "outputs": [
        {
          "data": {
            "application/vnd.microsoft.datawrangler.viewer.v0+json": {
              "columns": [
                {
                  "name": "departure_time",
                  "rawType": "object",
                  "type": "string"
                },
                {
                  "name": "price",
                  "rawType": "float64",
                  "type": "float"
                }
              ],
              "ref": "f8775996-f741-49dd-9c5e-f34b6ac43d55",
              "rows": [
                [
                  "Afternoon",
                  "18179.203330962046"
                ],
                [
                  "Early_Morning",
                  "20370.67671807157"
                ],
                [
                  "Evening",
                  "21232.36189364382"
                ],
                [
                  "Late_Night",
                  "9295.299387442572"
                ],
                [
                  "Morning",
                  "21630.760253563094"
                ],
                [
                  "Night",
                  "23062.146808289075"
                ]
              ],
              "shape": {
                "columns": 1,
                "rows": 6
              }
            },
            "text/plain": [
              "departure_time\n",
              "Afternoon        18179.203331\n",
              "Early_Morning    20370.676718\n",
              "Evening          21232.361894\n",
              "Late_Night        9295.299387\n",
              "Morning          21630.760254\n",
              "Night            23062.146808\n",
              "Name: price, dtype: float64"
            ]
          },
          "execution_count": 39,
          "metadata": {},
          "output_type": "execute_result"
        }
      ],
      "source": [
        "df.groupby('departure_time')['price'].mean()"
      ]
    },
    {
      "cell_type": "code",
      "execution_count": 40,
      "id": "6019869d",
      "metadata": {
        "colab": {
          "base_uri": "https://localhost:8080/",
          "height": 226
        },
        "id": "6019869d",
        "outputId": "9fe985d7-89f6-4591-804c-28bc096a04bd"
      },
      "outputs": [
        {
          "data": {
            "application/vnd.microsoft.datawrangler.viewer.v0+json": {
              "columns": [
                {
                  "name": "index",
                  "rawType": "int64",
                  "type": "integer"
                },
                {
                  "name": "arrival_time",
                  "rawType": "object",
                  "type": "string"
                },
                {
                  "name": "duration",
                  "rawType": "float64",
                  "type": "float"
                },
                {
                  "name": "days_left",
                  "rawType": "int64",
                  "type": "integer"
                },
                {
                  "name": "price",
                  "rawType": "int64",
                  "type": "integer"
                },
                {
                  "name": "stops_mapped",
                  "rawType": "int64",
                  "type": "integer"
                },
                {
                  "name": "airline_mapped",
                  "rawType": "int64",
                  "type": "integer"
                },
                {
                  "name": "route_mapped",
                  "rawType": "int64",
                  "type": "integer"
                },
                {
                  "name": "class_mapped",
                  "rawType": "int64",
                  "type": "integer"
                },
                {
                  "name": "departure_time_scaled",
                  "rawType": "float64",
                  "type": "float"
                }
              ],
              "ref": "4a803f46-33c0-44b0-8b9e-f713f95f35ba",
              "rows": [
                [
                  "296113",
                  "Evening",
                  "12.67",
                  "6",
                  "67137",
                  "1",
                  "5",
                  "20",
                  "1",
                  "0.804496264980613"
                ],
                [
                  "175532",
                  "Night",
                  "11.0",
                  "43",
                  "4368",
                  "1",
                  "4",
                  "11",
                  "0",
                  "0.8960265548844176"
                ],
                [
                  "148057",
                  "Late_Night",
                  "10.5",
                  "1",
                  "7954",
                  "1",
                  "1",
                  "28",
                  "0",
                  "0.645311426206917"
                ],
                [
                  "261244",
                  "Morning",
                  "14.42",
                  "49",
                  "44280",
                  "1",
                  "5",
                  "26",
                  "1",
                  "0.867087586670388"
                ],
                [
                  "148942",
                  "Night",
                  "5.5",
                  "12",
                  "13014",
                  "1",
                  "5",
                  "28",
                  "0",
                  "0.867087586670388"
                ]
              ],
              "shape": {
                "columns": 9,
                "rows": 5
              }
            },
            "text/html": [
              "<div>\n",
              "<style scoped>\n",
              "    .dataframe tbody tr th:only-of-type {\n",
              "        vertical-align: middle;\n",
              "    }\n",
              "\n",
              "    .dataframe tbody tr th {\n",
              "        vertical-align: top;\n",
              "    }\n",
              "\n",
              "    .dataframe thead th {\n",
              "        text-align: right;\n",
              "    }\n",
              "</style>\n",
              "<table border=\"1\" class=\"dataframe\">\n",
              "  <thead>\n",
              "    <tr style=\"text-align: right;\">\n",
              "      <th></th>\n",
              "      <th>arrival_time</th>\n",
              "      <th>duration</th>\n",
              "      <th>days_left</th>\n",
              "      <th>price</th>\n",
              "      <th>stops_mapped</th>\n",
              "      <th>airline_mapped</th>\n",
              "      <th>route_mapped</th>\n",
              "      <th>class_mapped</th>\n",
              "      <th>departure_time_scaled</th>\n",
              "    </tr>\n",
              "  </thead>\n",
              "  <tbody>\n",
              "    <tr>\n",
              "      <th>296113</th>\n",
              "      <td>Evening</td>\n",
              "      <td>12.67</td>\n",
              "      <td>6</td>\n",
              "      <td>67137</td>\n",
              "      <td>1</td>\n",
              "      <td>5</td>\n",
              "      <td>20</td>\n",
              "      <td>1</td>\n",
              "      <td>0.804496</td>\n",
              "    </tr>\n",
              "    <tr>\n",
              "      <th>175532</th>\n",
              "      <td>Night</td>\n",
              "      <td>11.00</td>\n",
              "      <td>43</td>\n",
              "      <td>4368</td>\n",
              "      <td>1</td>\n",
              "      <td>4</td>\n",
              "      <td>11</td>\n",
              "      <td>0</td>\n",
              "      <td>0.896027</td>\n",
              "    </tr>\n",
              "    <tr>\n",
              "      <th>148057</th>\n",
              "      <td>Late_Night</td>\n",
              "      <td>10.50</td>\n",
              "      <td>1</td>\n",
              "      <td>7954</td>\n",
              "      <td>1</td>\n",
              "      <td>1</td>\n",
              "      <td>28</td>\n",
              "      <td>0</td>\n",
              "      <td>0.645311</td>\n",
              "    </tr>\n",
              "    <tr>\n",
              "      <th>261244</th>\n",
              "      <td>Morning</td>\n",
              "      <td>14.42</td>\n",
              "      <td>49</td>\n",
              "      <td>44280</td>\n",
              "      <td>1</td>\n",
              "      <td>5</td>\n",
              "      <td>26</td>\n",
              "      <td>1</td>\n",
              "      <td>0.867088</td>\n",
              "    </tr>\n",
              "    <tr>\n",
              "      <th>148942</th>\n",
              "      <td>Night</td>\n",
              "      <td>5.50</td>\n",
              "      <td>12</td>\n",
              "      <td>13014</td>\n",
              "      <td>1</td>\n",
              "      <td>5</td>\n",
              "      <td>28</td>\n",
              "      <td>0</td>\n",
              "      <td>0.867088</td>\n",
              "    </tr>\n",
              "  </tbody>\n",
              "</table>\n",
              "</div>"
            ],
            "text/plain": [
              "       arrival_time  duration  days_left  price  stops_mapped  airline_mapped  \\\n",
              "296113      Evening     12.67          6  67137             1               5   \n",
              "175532        Night     11.00         43   4368             1               4   \n",
              "148057   Late_Night     10.50          1   7954             1               1   \n",
              "261244      Morning     14.42         49  44280             1               5   \n",
              "148942        Night      5.50         12  13014             1               5   \n",
              "\n",
              "        route_mapped  class_mapped  departure_time_scaled  \n",
              "296113            20             1               0.804496  \n",
              "175532            11             0               0.896027  \n",
              "148057            28             0               0.645311  \n",
              "261244            26             1               0.867088  \n",
              "148942            28             0               0.867088  "
            ]
          },
          "execution_count": 40,
          "metadata": {},
          "output_type": "execute_result"
        }
      ],
      "source": [
        "# Calculate the mean price for each departure time\n",
        "mean_price_by_departure_time = df.groupby('departure_time')['price'].mean()\n",
        "\n",
        "# Sort the departure times by their mean price\n",
        "ranked_departure_times = mean_price_by_departure_time.sort_values(ascending=True)\n",
        "\n",
        "# Create a mapping where values are scaled between 0 and 1\n",
        "min_price = ranked_departure_times.min()\n",
        "max_price = ranked_departure_times.max()\n",
        "\n",
        "# Avoid division by zero if min_price and max_price are the same\n",
        "if max_price == min_price:\n",
        "    scaled_departure_time_map = {time: 0.5 for time in ranked_departure_times.index}\n",
        "else:\n",
        "    scaled_departure_time_map = {time: (price - min_price) / (max_price - min_price) for time, price in ranked_departure_times.items()}\n",
        "\n",
        "# Map the original 'departure_time' column to these scaled values\n",
        "df['departure_time_scaled'] = df['departure_time'].map(scaled_departure_time_map)\n",
        "df.drop('departure_time', axis=1, inplace=True)\n",
        "\n",
        "df.sample(5)"
      ]
    },
    {
      "cell_type": "code",
      "execution_count": 41,
      "id": "58onvxjiVkb7",
      "metadata": {
        "colab": {
          "base_uri": "https://localhost:8080/"
        },
        "id": "58onvxjiVkb7",
        "outputId": "85530e7f-b3cd-4959-f526-4c30c53e2730"
      },
      "outputs": [
        {
          "data": {
            "text/plain": [
              "np.float64(0.07273217711497877)"
            ]
          },
          "execution_count": 41,
          "metadata": {},
          "output_type": "execute_result"
        }
      ],
      "source": [
        "df['departure_time_scaled'].corr(df['price'])"
      ]
    },
    {
      "cell_type": "code",
      "execution_count": 42,
      "id": "UoZJrIU7XbOj",
      "metadata": {
        "colab": {
          "base_uri": "https://localhost:8080/",
          "height": 303
        },
        "id": "UoZJrIU7XbOj",
        "outputId": "d642f019-70dc-4aa0-aa13-36d1d0430c32"
      },
      "outputs": [
        {
          "data": {
            "application/vnd.microsoft.datawrangler.viewer.v0+json": {
              "columns": [
                {
                  "name": "arrival_time",
                  "rawType": "object",
                  "type": "string"
                },
                {
                  "name": "price",
                  "rawType": "float64",
                  "type": "float"
                }
              ],
              "ref": "94944e11-8b6d-423f-bb9c-0cae7227fadd",
              "rows": [
                [
                  "Afternoon",
                  "18494.59899315661"
                ],
                [
                  "Early_Morning",
                  "14993.139521307647"
                ],
                [
                  "Evening",
                  "23044.371614978998"
                ],
                [
                  "Late_Night",
                  "11284.906078137275"
                ],
                [
                  "Morning",
                  "22231.076097872003"
                ],
                [
                  "Night",
                  "21586.75834079836"
                ]
              ],
              "shape": {
                "columns": 1,
                "rows": 6
              }
            },
            "text/plain": [
              "arrival_time\n",
              "Afternoon        18494.598993\n",
              "Early_Morning    14993.139521\n",
              "Evening          23044.371615\n",
              "Late_Night       11284.906078\n",
              "Morning          22231.076098\n",
              "Night            21586.758341\n",
              "Name: price, dtype: float64"
            ]
          },
          "execution_count": 42,
          "metadata": {},
          "output_type": "execute_result"
        }
      ],
      "source": [
        "df.groupby('arrival_time')['price'].mean()"
      ]
    },
    {
      "cell_type": "code",
      "execution_count": 43,
      "id": "4596408c",
      "metadata": {
        "colab": {
          "base_uri": "https://localhost:8080/",
          "height": 226
        },
        "id": "4596408c",
        "outputId": "1f540cb7-49ed-4b0f-de95-1551a64516cf"
      },
      "outputs": [
        {
          "data": {
            "application/vnd.microsoft.datawrangler.viewer.v0+json": {
              "columns": [
                {
                  "name": "index",
                  "rawType": "int64",
                  "type": "integer"
                },
                {
                  "name": "duration",
                  "rawType": "float64",
                  "type": "float"
                },
                {
                  "name": "days_left",
                  "rawType": "int64",
                  "type": "integer"
                },
                {
                  "name": "price",
                  "rawType": "int64",
                  "type": "integer"
                },
                {
                  "name": "stops_mapped",
                  "rawType": "int64",
                  "type": "integer"
                },
                {
                  "name": "airline_mapped",
                  "rawType": "int64",
                  "type": "integer"
                },
                {
                  "name": "route_mapped",
                  "rawType": "int64",
                  "type": "integer"
                },
                {
                  "name": "class_mapped",
                  "rawType": "int64",
                  "type": "integer"
                },
                {
                  "name": "departure_time_scaled",
                  "rawType": "float64",
                  "type": "float"
                },
                {
                  "name": "arrival_time_scaled",
                  "rawType": "float64",
                  "type": "float"
                }
              ],
              "ref": "b362fabd-76d0-4aea-82d8-b7e26707e77b",
              "rows": [
                [
                  "49434",
                  "11.83",
                  "33",
                  "6219",
                  "1",
                  "4",
                  "4",
                  "0",
                  "0.804496264980613",
                  "1.0"
                ],
                [
                  "106587",
                  "2.58",
                  "29",
                  "3393",
                  "0",
                  "4",
                  "27",
                  "0",
                  "0.0",
                  "0.31534030450216394"
                ],
                [
                  "87609",
                  "7.08",
                  "19",
                  "6022",
                  "1",
                  "2",
                  "2",
                  "0",
                  "0.645311426206917",
                  "0.8760476596819794"
                ],
                [
                  "30630",
                  "9.5",
                  "17",
                  "3989",
                  "1",
                  "2",
                  "1",
                  "0",
                  "0.804496264980613",
                  "0.6130969891813354"
                ],
                [
                  "189563",
                  "10.83",
                  "18",
                  "4413",
                  "1",
                  "5",
                  "22",
                  "0",
                  "1.0",
                  "0.31534030450216394"
                ]
              ],
              "shape": {
                "columns": 9,
                "rows": 5
              }
            },
            "text/html": [
              "<div>\n",
              "<style scoped>\n",
              "    .dataframe tbody tr th:only-of-type {\n",
              "        vertical-align: middle;\n",
              "    }\n",
              "\n",
              "    .dataframe tbody tr th {\n",
              "        vertical-align: top;\n",
              "    }\n",
              "\n",
              "    .dataframe thead th {\n",
              "        text-align: right;\n",
              "    }\n",
              "</style>\n",
              "<table border=\"1\" class=\"dataframe\">\n",
              "  <thead>\n",
              "    <tr style=\"text-align: right;\">\n",
              "      <th></th>\n",
              "      <th>duration</th>\n",
              "      <th>days_left</th>\n",
              "      <th>price</th>\n",
              "      <th>stops_mapped</th>\n",
              "      <th>airline_mapped</th>\n",
              "      <th>route_mapped</th>\n",
              "      <th>class_mapped</th>\n",
              "      <th>departure_time_scaled</th>\n",
              "      <th>arrival_time_scaled</th>\n",
              "    </tr>\n",
              "  </thead>\n",
              "  <tbody>\n",
              "    <tr>\n",
              "      <th>49434</th>\n",
              "      <td>11.83</td>\n",
              "      <td>33</td>\n",
              "      <td>6219</td>\n",
              "      <td>1</td>\n",
              "      <td>4</td>\n",
              "      <td>4</td>\n",
              "      <td>0</td>\n",
              "      <td>0.804496</td>\n",
              "      <td>1.000000</td>\n",
              "    </tr>\n",
              "    <tr>\n",
              "      <th>106587</th>\n",
              "      <td>2.58</td>\n",
              "      <td>29</td>\n",
              "      <td>3393</td>\n",
              "      <td>0</td>\n",
              "      <td>4</td>\n",
              "      <td>27</td>\n",
              "      <td>0</td>\n",
              "      <td>0.000000</td>\n",
              "      <td>0.315340</td>\n",
              "    </tr>\n",
              "    <tr>\n",
              "      <th>87609</th>\n",
              "      <td>7.08</td>\n",
              "      <td>19</td>\n",
              "      <td>6022</td>\n",
              "      <td>1</td>\n",
              "      <td>2</td>\n",
              "      <td>2</td>\n",
              "      <td>0</td>\n",
              "      <td>0.645311</td>\n",
              "      <td>0.876048</td>\n",
              "    </tr>\n",
              "    <tr>\n",
              "      <th>30630</th>\n",
              "      <td>9.50</td>\n",
              "      <td>17</td>\n",
              "      <td>3989</td>\n",
              "      <td>1</td>\n",
              "      <td>2</td>\n",
              "      <td>1</td>\n",
              "      <td>0</td>\n",
              "      <td>0.804496</td>\n",
              "      <td>0.613097</td>\n",
              "    </tr>\n",
              "    <tr>\n",
              "      <th>189563</th>\n",
              "      <td>10.83</td>\n",
              "      <td>18</td>\n",
              "      <td>4413</td>\n",
              "      <td>1</td>\n",
              "      <td>5</td>\n",
              "      <td>22</td>\n",
              "      <td>0</td>\n",
              "      <td>1.000000</td>\n",
              "      <td>0.315340</td>\n",
              "    </tr>\n",
              "  </tbody>\n",
              "</table>\n",
              "</div>"
            ],
            "text/plain": [
              "        duration  days_left  price  stops_mapped  airline_mapped  \\\n",
              "49434      11.83         33   6219             1               4   \n",
              "106587      2.58         29   3393             0               4   \n",
              "87609       7.08         19   6022             1               2   \n",
              "30630       9.50         17   3989             1               2   \n",
              "189563     10.83         18   4413             1               5   \n",
              "\n",
              "        route_mapped  class_mapped  departure_time_scaled  arrival_time_scaled  \n",
              "49434              4             0               0.804496             1.000000  \n",
              "106587            27             0               0.000000             0.315340  \n",
              "87609              2             0               0.645311             0.876048  \n",
              "30630              1             0               0.804496             0.613097  \n",
              "189563            22             0               1.000000             0.315340  "
            ]
          },
          "execution_count": 43,
          "metadata": {},
          "output_type": "execute_result"
        }
      ],
      "source": [
        "# Calculate the mean price for each arrival time\n",
        "mean_price_by_arrival_time = df.groupby('arrival_time')['price'].mean()\n",
        "\n",
        "# Sort the arrival times by their mean price\n",
        "ranked_arrival_times = mean_price_by_arrival_time.sort_values(ascending=True)\n",
        "\n",
        "# Create a mapping where values are scaled between 0 and 1\n",
        "min_price_arrival = ranked_arrival_times.min()\n",
        "max_price_arrival = ranked_arrival_times.max()\n",
        "\n",
        "# Avoid division by zero if min_price and max_price are the same\n",
        "if max_price_arrival == min_price_arrival:\n",
        "    scaled_arrival_time_map = {time: 0.5 for time in ranked_arrival_times.index}\n",
        "else:\n",
        "    scaled_arrival_time_map = {time: (price - min_price_arrival) / (max_price_arrival - min_price_arrival) for time, price in ranked_arrival_times.items()}\n",
        "\n",
        "# Map the original 'arrival_time' column to these scaled values\n",
        "df['arrival_time_scaled'] = df['arrival_time'].map(scaled_arrival_time_map)\n",
        "df.drop('arrival_time', axis=1, inplace=True)\n",
        "\n",
        "# Display the first few rows with the new scaled column\n",
        "df.sample(5)"
      ]
    },
    {
      "cell_type": "code",
      "execution_count": 44,
      "id": "JiHl6MCDZWFj",
      "metadata": {
        "colab": {
          "base_uri": "https://localhost:8080/"
        },
        "id": "JiHl6MCDZWFj",
        "outputId": "8ff98b6e-e4d2-43c4-f90f-4782793adf3f"
      },
      "outputs": [
        {
          "data": {
            "text/plain": [
              "np.float64(0.1288531773387412)"
            ]
          },
          "execution_count": 44,
          "metadata": {},
          "output_type": "execute_result"
        }
      ],
      "source": [
        "df['arrival_time_scaled'].corr(df['price'])"
      ]
    },
    {
      "cell_type": "code",
      "execution_count": 45,
      "id": "8ae2ec08",
      "metadata": {
        "colab": {
          "base_uri": "https://localhost:8080/",
          "height": 904
        },
        "id": "8ae2ec08",
        "outputId": "65aa9167-3477-4b5a-c5ed-495ee32f4aec"
      },
      "outputs": [
        {
          "data": {
            "image/png": "[encoded data removed]",
            "text/plain": [
              "<Figure size 1200x1000 with 2 Axes>"
            ]
          },
          "metadata": {},
          "output_type": "display_data"
        }
      ],
      "source": [
        "# Calculate the correlation matrix\n",
        "corr_matrix = df.corr()\n",
        "\n",
        "# Plot the heatmap\n",
        "plt.figure(figsize=(12, 10))\n",
        "sns.heatmap(corr_matrix, annot=True, cmap='coolwarm', fmt=\".2f\")\n",
        "plt.title('Correlation Heatmap of DataFrame')\n",
        "plt.show()"
      ]
    },
    {
      "cell_type": "code",
      "execution_count": 46,
      "id": "ZXgBkedvfCiN",
      "metadata": {
        "id": "ZXgBkedvfCiN"
      },
      "outputs": [],
      "source": [
        "train_df, test_df = train_test_split(df, test_size=0.2, random_state=42)"
      ]
    },
    {
      "cell_type": "code",
      "execution_count": 47,
      "id": "LVV2ifw4fS9J",
      "metadata": {
        "id": "LVV2ifw4fS9J"
      },
      "outputs": [],
      "source": [
        "x_train = train_df.drop('price', axis=1).values\n",
        "y_train = train_df['price'].values\n",
        "\n",
        "x_test = test_df.drop('price', axis=1).values\n",
        "y_test = test_df['price'].values"
      ]
    },
    {
      "cell_type": "code",
      "execution_count": 48,
      "id": "tj13lsLiftHl",
      "metadata": {
        "id": "tj13lsLiftHl"
      },
      "outputs": [],
      "source": [
        "scaler = MinMaxScaler()\n",
        "x_train_scaled = scaler.fit_transform(x_train)\n",
        "x_test_scaled = scaler.transform(x_test)"
      ]
    },
    {
      "cell_type": "markdown",
      "id": "2b329451",
      "metadata": {},
      "source": [
        "# Model Training"
      ]
    },
    {
      "cell_type": "code",
      "execution_count": 59,
      "id": "jlNyG9k_CP7G",
      "metadata": {
        "colab": {
          "base_uri": "https://localhost:8080/",
          "height": 97
        },
        "id": "jlNyG9k_CP7G",
        "outputId": "b00021f4-9885-46d6-93ea-e8f881deb7aa"
      },
      "outputs": [
        {
          "name": "stderr",
          "output_type": "stream",
          "text": [
            "[Parallel(n_jobs=-1)]: Using backend ThreadingBackend with 8 concurrent workers.\n",
            "[Parallel(n_jobs=-1)]: Done  34 tasks      | elapsed:    7.2s\n",
            "[Parallel(n_jobs=-1)]: Done 184 tasks      | elapsed:   35.1s\n",
            "[Parallel(n_jobs=-1)]: Done 434 tasks      | elapsed:  1.3min\n",
            "[Parallel(n_jobs=-1)]: Done 500 out of 500 | elapsed:  1.5min finished\n"
          ]
        },
        {
          "data": {
            "text/html": [
              "<style>#sk-container-id-4 {\n",
              "  /* Definition of color scheme common for light and dark mode */\n",
              "  --sklearn-color-text: black;\n",
              "  --sklearn-color-line: gray;\n",
              "  /* Definition of color scheme for unfitted estimators */\n",
              "  --sklearn-color-unfitted-level-0: #fff5e6;\n",
              "  --sklearn-color-unfitted-level-1: #f6e4d2;\n",
              "  --sklearn-color-unfitted-level-2: #ffe0b3;\n",
              "  --sklearn-color-unfitted-level-3: chocolate;\n",
              "  /* Definition of color scheme for fitted estimators */\n",
              "  --sklearn-color-fitted-level-0: #f0f8ff;\n",
              "  --sklearn-color-fitted-level-1: #d4ebff;\n",
              "  --sklearn-color-fitted-level-2: #b3dbfd;\n",
              "  --sklearn-color-fitted-level-3: cornflowerblue;\n",
              "\n",
              "  /* Specific color for light theme */\n",
              "  --sklearn-color-text-on-default-background: var(--sg-text-color, var(--theme-code-foreground, var(--jp-content-font-color1, black)));\n",
              "  --sklearn-color-background: var(--sg-background-color, var(--theme-background, var(--jp-layout-color0, white)));\n",
              "  --sklearn-color-border-box: var(--sg-text-color, var(--theme-code-foreground, var(--jp-content-font-color1, black)));\n",
              "  --sklearn-color-icon: #696969;\n",
              "\n",
              "  @media (prefers-color-scheme: dark) {\n",
              "    /* Redefinition of color scheme for dark theme */\n",
              "    --sklearn-color-text-on-default-background: var(--sg-text-color, var(--theme-code-foreground, var(--jp-content-font-color1, white)));\n",
              "    --sklearn-color-background: var(--sg-background-color, var(--theme-background, var(--jp-layout-color0, #111)));\n",
              "    --sklearn-color-border-box: var(--sg-text-color, var(--theme-code-foreground, var(--jp-content-font-color1, white)));\n",
              "    --sklearn-color-icon: #878787;\n",
              "  }\n",
              "}\n",
              "\n",
              "#sk-container-id-4 {\n",
              "  color: var(--sklearn-color-text);\n",
              "}\n",
              "\n",
              "#sk-container-id-4 pre {\n",
              "  padding: 0;\n",
              "}\n",
              "\n",
              "#sk-container-id-4 input.sk-hidden--visually {\n",
              "  border: 0;\n",
              "  clip: rect(1px 1px 1px 1px);\n",
              "  clip: rect(1px, 1px, 1px, 1px);\n",
              "  height: 1px;\n",
              "  margin: -1px;\n",
              "  overflow: hidden;\n",
              "  padding: 0;\n",
              "  position: absolute;\n",
              "  width: 1px;\n",
              "}\n",
              "\n",
              "#sk-container-id-4 div.sk-dashed-wrapped {\n",
              "  border: 1px dashed var(--sklearn-color-line);\n",
              "  margin: 0 0.4em 0.5em 0.4em;\n",
              "  box-sizing: border-box;\n",
              "  padding-bottom: 0.4em;\n",
              "  background-color: var(--sklearn-color-background);\n",
              "}\n",
              "\n",
              "#sk-container-id-4 div.sk-container {\n",
              "  /* jupyter's `normalize.less` sets `[hidden] { display: none; }`\n",
              "     but bootstrap.min.css set `[hidden] { display: none !important; }`\n",
              "     so we also need the `!important` here to be able to override the\n",
              "     default hidden behavior on the sphinx rendered scikit-learn.org.\n",
              "     See: https://github.com/scikit-learn/scikit-learn/issues/21755 */\n",
              "  display: inline-block !important;\n",
              "  position: relative;\n",
              "}\n",
              "\n",
              "#sk-container-id-4 div.sk-text-repr-fallback {\n",
              "  display: none;\n",
              "}\n",
              "\n",
              "div.sk-parallel-item,\n",
              "div.sk-serial,\n",
              "div.sk-item {\n",
              "  /* draw centered vertical line to link estimators */\n",
              "  background-image: linear-gradient(var(--sklearn-color-text-on-default-background), var(--sklearn-color-text-on-default-background));\n",
              "  background-size: 2px 100%;\n",
              "  background-repeat: no-repeat;\n",
              "  background-position: center center;\n",
              "}\n",
              "\n",
              "/* Parallel-specific style estimator block */\n",
              "\n",
              "#sk-container-id-4 div.sk-parallel-item::after {\n",
              "  content: \"\";\n",
              "  width: 100%;\n",
              "  border-bottom: 2px solid var(--sklearn-color-text-on-default-background);\n",
              "  flex-grow: 1;\n",
              "}\n",
              "\n",
              "#sk-container-id-4 div.sk-parallel {\n",
              "  display: flex;\n",
              "  align-items: stretch;\n",
              "  justify-content: center;\n",
              "  background-color: var(--sklearn-color-background);\n",
              "  position: relative;\n",
              "}\n",
              "\n",
              "#sk-container-id-4 div.sk-parallel-item {\n",
              "  display: flex;\n",
              "  flex-direction: column;\n",
              "}\n",
              "\n",
              "#sk-container-id-4 div.sk-parallel-item:first-child::after {\n",
              "  align-self: flex-end;\n",
              "  width: 50%;\n",
              "}\n",
              "\n",
              "#sk-container-id-4 div.sk-parallel-item:last-child::after {\n",
              "  align-self: flex-start;\n",
              "  width: 50%;\n",
              "}\n",
              "\n",
              "#sk-container-id-4 div.sk-parallel-item:only-child::after {\n",
              "  width: 0;\n",
              "}\n",
              "\n",
              "/* Serial-specific style estimator block */\n",
              "\n",
              "#sk-container-id-4 div.sk-serial {\n",
              "  display: flex;\n",
              "  flex-direction: column;\n",
              "  align-items: center;\n",
              "  background-color: var(--sklearn-color-background);\n",
              "  padding-right: 1em;\n",
              "  padding-left: 1em;\n",
              "}\n",
              "\n",
              "\n",
              "/* Toggleable style: style used for estimator/Pipeline/ColumnTransformer box that is\n",
              "clickable and can be expanded/collapsed.\n",
              "- Pipeline and ColumnTransformer use this feature and define the default style\n",
              "- Estimators will overwrite some part of the style using the `sk-estimator` class\n",
              "*/\n",
              "\n",
              "/* Pipeline and ColumnTransformer style (default) */\n",
              "\n",
              "#sk-container-id-4 div.sk-toggleable {\n",
              "  /* Default theme specific background. It is overwritten whether we have a\n",
              "  specific estimator or a Pipeline/ColumnTransformer */\n",
              "  background-color: var(--sklearn-color-background);\n",
              "}\n",
              "\n",
              "/* Toggleable label */\n",
              "#sk-container-id-4 label.sk-toggleable__label {\n",
              "  cursor: pointer;\n",
              "  display: block;\n",
              "  width: 100%;\n",
              "  margin-bottom: 0;\n",
              "  padding: 0.5em;\n",
              "  box-sizing: border-box;\n",
              "  text-align: center;\n",
              "}\n",
              "\n",
              "#sk-container-id-4 label.sk-toggleable__label-arrow:before {\n",
              "  /* Arrow on the left of the label */\n",
              "  content: \"▸\";\n",
              "  float: left;\n",
              "  margin-right: 0.25em;\n",
              "  color: var(--sklearn-color-icon);\n",
              "}\n",
              "\n",
              "#sk-container-id-4 label.sk-toggleable__label-arrow:hover:before {\n",
              "  color: var(--sklearn-color-text);\n",
              "}\n",
              "\n",
              "/* Toggleable content - dropdown */\n",
              "\n",
              "#sk-container-id-4 div.sk-toggleable__content {\n",
              "  max-height: 0;\n",
              "  max-width: 0;\n",
              "  overflow: hidden;\n",
              "  text-align: left;\n",
              "  /* unfitted */\n",
              "  background-color: var(--sklearn-color-unfitted-level-0);\n",
              "}\n",
              "\n",
              "#sk-container-id-4 div.sk-toggleable__content.fitted {\n",
              "  /* fitted */\n",
              "  background-color: var(--sklearn-color-fitted-level-0);\n",
              "}\n",
              "\n",
              "#sk-container-id-4 div.sk-toggleable__content pre {\n",
              "  margin: 0.2em;\n",
              "  border-radius: 0.25em;\n",
              "  color: var(--sklearn-color-text);\n",
              "  /* unfitted */\n",
              "  background-color: var(--sklearn-color-unfitted-level-0);\n",
              "}\n",
              "\n",
              "#sk-container-id-4 div.sk-toggleable__content.fitted pre {\n",
              "  /* unfitted */\n",
              "  background-color: var(--sklearn-color-fitted-level-0);\n",
              "}\n",
              "\n",
              "#sk-container-id-4 input.sk-toggleable__control:checked~div.sk-toggleable__content {\n",
              "  /* Expand drop-down */\n",
              "  max-height: 200px;\n",
              "  max-width: 100%;\n",
              "  overflow: auto;\n",
              "}\n",
              "\n",
              "#sk-container-id-4 input.sk-toggleable__control:checked~label.sk-toggleable__label-arrow:before {\n",
              "  content: \"▾\";\n",
              "}\n",
              "\n",
              "/* Pipeline/ColumnTransformer-specific style */\n",
              "\n",
              "#sk-container-id-4 div.sk-label input.sk-toggleable__control:checked~label.sk-toggleable__label {\n",
              "  color: var(--sklearn-color-text);\n",
              "  background-color: var(--sklearn-color-unfitted-level-2);\n",
              "}\n",
              "\n",
              "#sk-container-id-4 div.sk-label.fitted input.sk-toggleable__control:checked~label.sk-toggleable__label {\n",
              "  background-color: var(--sklearn-color-fitted-level-2);\n",
              "}\n",
              "\n",
              "/* Estimator-specific style */\n",
              "\n",
              "/* Colorize estimator box */\n",
              "#sk-container-id-4 div.sk-estimator input.sk-toggleable__control:checked~label.sk-toggleable__label {\n",
              "  /* unfitted */\n",
              "  background-color: var(--sklearn-color-unfitted-level-2);\n",
              "}\n",
              "\n",
              "#sk-container-id-4 div.sk-estimator.fitted input.sk-toggleable__control:checked~label.sk-toggleable__label {\n",
              "  /* fitted */\n",
              "  background-color: var(--sklearn-color-fitted-level-2);\n",
              "}\n",
              "\n",
              "#sk-container-id-4 div.sk-label label.sk-toggleable__label,\n",
              "#sk-container-id-4 div.sk-label label {\n",
              "  /* The background is the default theme color */\n",
              "  color: var(--sklearn-color-text-on-default-background);\n",
              "}\n",
              "\n",
              "/* On hover, darken the color of the background */\n",
              "#sk-container-id-4 div.sk-label:hover label.sk-toggleable__label {\n",
              "  color: var(--sklearn-color-text);\n",
              "  background-color: var(--sklearn-color-unfitted-level-2);\n",
              "}\n",
              "\n",
              "/* Label box, darken color on hover, fitted */\n",
              "#sk-container-id-4 div.sk-label.fitted:hover label.sk-toggleable__label.fitted {\n",
              "  color: var(--sklearn-color-text);\n",
              "  background-color: var(--sklearn-color-fitted-level-2);\n",
              "}\n",
              "\n",
              "/* Estimator label */\n",
              "\n",
              "#sk-container-id-4 div.sk-label label {\n",
              "  font-family: monospace;\n",
              "  font-weight: bold;\n",
              "  display: inline-block;\n",
              "  line-height: 1.2em;\n",
              "}\n",
              "\n",
              "#sk-container-id-4 div.sk-label-container {\n",
              "  text-align: center;\n",
              "}\n",
              "\n",
              "/* Estimator-specific */\n",
              "#sk-container-id-4 div.sk-estimator {\n",
              "  font-family: monospace;\n",
              "  border: 1px dotted var(--sklearn-color-border-box);\n",
              "  border-radius: 0.25em;\n",
              "  box-sizing: border-box;\n",
              "  margin-bottom: 0.5em;\n",
              "  /* unfitted */\n",
              "  background-color: var(--sklearn-color-unfitted-level-0);\n",
              "}\n",
              "\n",
              "#sk-container-id-4 div.sk-estimator.fitted {\n",
              "  /* fitted */\n",
              "  background-color: var(--sklearn-color-fitted-level-0);\n",
              "}\n",
              "\n",
              "/* on hover */\n",
              "#sk-container-id-4 div.sk-estimator:hover {\n",
              "  /* unfitted */\n",
              "  background-color: var(--sklearn-color-unfitted-level-2);\n",
              "}\n",
              "\n",
              "#sk-container-id-4 div.sk-estimator.fitted:hover {\n",
              "  /* fitted */\n",
              "  background-color: var(--sklearn-color-fitted-level-2);\n",
              "}\n",
              "\n",
              "/* Specification for estimator info (e.g. \"i\" and \"?\") */\n",
              "\n",
              "/* Common style for \"i\" and \"?\" */\n",
              "\n",
              ".sk-estimator-doc-link,\n",
              "a:link.sk-estimator-doc-link,\n",
              "a:visited.sk-estimator-doc-link {\n",
              "  float: right;\n",
              "  font-size: smaller;\n",
              "  line-height: 1em;\n",
              "  font-family: monospace;\n",
              "  background-color: var(--sklearn-color-background);\n",
              "  border-radius: 1em;\n",
              "  height: 1em;\n",
              "  width: 1em;\n",
              "  text-decoration: none !important;\n",
              "  margin-left: 1ex;\n",
              "  /* unfitted */\n",
              "  border: var(--sklearn-color-unfitted-level-1) 1pt solid;\n",
              "  color: var(--sklearn-color-unfitted-level-1);\n",
              "}\n",
              "\n",
              ".sk-estimator-doc-link.fitted,\n",
              "a:link.sk-estimator-doc-link.fitted,\n",
              "a:visited.sk-estimator-doc-link.fitted {\n",
              "  /* fitted */\n",
              "  border: var(--sklearn-color-fitted-level-1) 1pt solid;\n",
              "  color: var(--sklearn-color-fitted-level-1);\n",
              "}\n",
              "\n",
              "/* On hover */\n",
              "div.sk-estimator:hover .sk-estimator-doc-link:hover,\n",
              ".sk-estimator-doc-link:hover,\n",
              "div.sk-label-container:hover .sk-estimator-doc-link:hover,\n",
              ".sk-estimator-doc-link:hover {\n",
              "  /* unfitted */\n",
              "  background-color: var(--sklearn-color-unfitted-level-3);\n",
              "  color: var(--sklearn-color-background);\n",
              "  text-decoration: none;\n",
              "}\n",
              "\n",
              "div.sk-estimator.fitted:hover .sk-estimator-doc-link.fitted:hover,\n",
              ".sk-estimator-doc-link.fitted:hover,\n",
              "div.sk-label-container:hover .sk-estimator-doc-link.fitted:hover,\n",
              ".sk-estimator-doc-link.fitted:hover {\n",
              "  /* fitted */\n",
              "  background-color: var(--sklearn-color-fitted-level-3);\n",
              "  color: var(--sklearn-color-background);\n",
              "  text-decoration: none;\n",
              "}\n",
              "\n",
              "/* Span, style for the box shown on hovering the info icon */\n",
              ".sk-estimator-doc-link span {\n",
              "  display: none;\n",
              "  z-index: 9999;\n",
              "  position: relative;\n",
              "  font-weight: normal;\n",
              "  right: .2ex;\n",
              "  padding: .5ex;\n",
              "  margin: .5ex;\n",
              "  width: min-content;\n",
              "  min-width: 20ex;\n",
              "  max-width: 50ex;\n",
              "  color: var(--sklearn-color-text);\n",
              "  box-shadow: 2pt 2pt 4pt #999;\n",
              "  /* unfitted */\n",
              "  background: var(--sklearn-color-unfitted-level-0);\n",
              "  border: .5pt solid var(--sklearn-color-unfitted-level-3);\n",
              "}\n",
              "\n",
              ".sk-estimator-doc-link.fitted span {\n",
              "  /* fitted */\n",
              "  background: var(--sklearn-color-fitted-level-0);\n",
              "  border: var(--sklearn-color-fitted-level-3);\n",
              "}\n",
              "\n",
              ".sk-estimator-doc-link:hover span {\n",
              "  display: block;\n",
              "}\n",
              "\n",
              "/* \"?\"-specific style due to the `<a>` HTML tag */\n",
              "\n",
              "#sk-container-id-4 a.estimator_doc_link {\n",
              "  float: right;\n",
              "  font-size: 1rem;\n",
              "  line-height: 1em;\n",
              "  font-family: monospace;\n",
              "  background-color: var(--sklearn-color-background);\n",
              "  border-radius: 1rem;\n",
              "  height: 1rem;\n",
              "  width: 1rem;\n",
              "  text-decoration: none;\n",
              "  /* unfitted */\n",
              "  color: var(--sklearn-color-unfitted-level-1);\n",
              "  border: var(--sklearn-color-unfitted-level-1) 1pt solid;\n",
              "}\n",
              "\n",
              "#sk-container-id-4 a.estimator_doc_link.fitted {\n",
              "  /* fitted */\n",
              "  border: var(--sklearn-color-fitted-level-1) 1pt solid;\n",
              "  color: var(--sklearn-color-fitted-level-1);\n",
              "}\n",
              "\n",
              "/* On hover */\n",
              "#sk-container-id-4 a.estimator_doc_link:hover {\n",
              "  /* unfitted */\n",
              "  background-color: var(--sklearn-color-unfitted-level-3);\n",
              "  color: var(--sklearn-color-background);\n",
              "  text-decoration: none;\n",
              "}\n",
              "\n",
              "#sk-container-id-4 a.estimator_doc_link.fitted:hover {\n",
              "  /* fitted */\n",
              "  background-color: var(--sklearn-color-fitted-level-3);\n",
              "}\n",
              "</style><div id=\"sk-container-id-4\" class=\"sk-top-container\"><div class=\"sk-text-repr-fallback\"><pre>RandomForestRegressor(max_depth=25, min_samples_split=4, n_estimators=500,\n",
              "                      n_jobs=-1, random_state=42, verbose=1)</pre><b>In a Jupyter environment, please rerun this cell to show the HTML representation or trust the notebook. <br />On GitHub, the HTML representation is unable to render, please try loading this page with nbviewer.org.</b></div><div class=\"sk-container\" hidden><div class=\"sk-item\"><div class=\"sk-estimator fitted sk-toggleable\"><input class=\"sk-toggleable__control sk-hidden--visually\" id=\"sk-estimator-id-4\" type=\"checkbox\" checked><label for=\"sk-estimator-id-4\" class=\"sk-toggleable__label fitted sk-toggleable__label-arrow fitted\">&nbsp;&nbsp;RandomForestRegressor<a class=\"sk-estimator-doc-link fitted\" rel=\"noreferrer\" target=\"_blank\" href=\"https://scikit-learn.org/1.5/modules/generated/sklearn.ensemble.RandomForestRegressor.html\">?<span>Documentation for RandomForestRegressor</span></a><span class=\"sk-estimator-doc-link fitted\">i<span>Fitted</span></span></label><div class=\"sk-toggleable__content fitted\"><pre>RandomForestRegressor(max_depth=25, min_samples_split=4, n_estimators=500,\n",
              "                      n_jobs=-1, random_state=42, verbose=1)</pre></div> </div></div></div></div>"
            ],
            "text/plain": [
              "RandomForestRegressor(max_depth=25, min_samples_split=4, n_estimators=500,\n",
              "                      n_jobs=-1, random_state=42, verbose=1)"
            ]
          },
          "execution_count": 59,
          "metadata": {},
          "output_type": "execute_result"
        }
      ],
      "source": [
        "from sklearn.ensemble import RandomForestRegressor\n",
        "\n",
        "# Create a RandomForestRegressor model\n",
        "rf_model = RandomForestRegressor(\n",
        "    n_estimators=500,\n",
        "    max_depth=25,\n",
        "    min_samples_split=4,\n",
        "    random_state=42,\n",
        "    n_jobs=-1,\n",
        "    verbose=1\n",
        ")\n",
        "\n",
        "rf_model.fit(x_train_scaled, y_train)"
      ]
    },
    {
      "cell_type": "code",
      "execution_count": 72,
      "id": "VsvA-WauECAo",
      "metadata": {
        "colab": {
          "base_uri": "https://localhost:8080/",
          "height": 564
        },
        "id": "VsvA-WauECAo",
        "outputId": "7fd8d0dc-d5d5-4b00-ba7e-88fe9edacf1c"
      },
      "outputs": [
        {
          "name": "stderr",
          "output_type": "stream",
          "text": [
            "[Parallel(n_jobs=8)]: Using backend ThreadingBackend with 8 concurrent workers.\n",
            "[Parallel(n_jobs=8)]: Done  34 tasks      | elapsed:    0.1s\n",
            "[Parallel(n_jobs=8)]: Done 184 tasks      | elapsed:    1.1s\n",
            "[Parallel(n_jobs=8)]: Done 434 tasks      | elapsed:    2.6s\n",
            "[Parallel(n_jobs=8)]: Done 500 out of 500 | elapsed:    2.9s finished\n"
          ]
        },
        {
          "data": {
            "image/png": "[encoded data removed]",
            "text/plain": [
              "<Figure size 1000x600 with 1 Axes>"
            ]
          },
          "metadata": {},
          "output_type": "display_data"
        }
      ],
      "source": [
        "rf_predictions = rf_model.predict(x_test_scaled)\n",
        "\n",
        "plot_predictions(y_test, rf_predictions)"
      ]
    },
    {
      "cell_type": "code",
      "execution_count": 61,
      "id": "d4404d16",
      "metadata": {},
      "outputs": [
        {
          "data": {
            "text/plain": [
              "0.9854068676654707"
            ]
          },
          "execution_count": 61,
          "metadata": {},
          "output_type": "execute_result"
        }
      ],
      "source": [
        "r2_score(y_test, predictions)"
      ]
    },
    {
      "cell_type": "code",
      "execution_count": 62,
      "id": "f6da7b1f",
      "metadata": {},
      "outputs": [
        {
          "data": {
            "text/plain": [
              "np.float64(1122.9828843711095)"
            ]
          },
          "execution_count": 62,
          "metadata": {},
          "output_type": "execute_result"
        }
      ],
      "source": [
        "mean_absolute_error(y_test, predictions)"
      ]
    },
    {
      "cell_type": "code",
      "execution_count": 83,
      "id": "28d49ad2",
      "metadata": {},
      "outputs": [
        {
          "name": "stdout",
          "output_type": "stream",
          "text": [
            "[0]\tvalidation_0-rmse:21602.41392\n",
            "[1]\tvalidation_0-rmse:20556.84997\n",
            "[2]\tvalidation_0-rmse:19564.51679\n",
            "[3]\tvalidation_0-rmse:18622.87275\n",
            "[4]\tvalidation_0-rmse:17728.91582\n",
            "[5]\tvalidation_0-rmse:16880.74021\n",
            "[6]\tvalidation_0-rmse:16075.64795\n",
            "[7]\tvalidation_0-rmse:15311.44061\n",
            "[8]\tvalidation_0-rmse:14586.18546\n",
            "[9]\tvalidation_0-rmse:13897.32945\n",
            "[10]\tvalidation_0-rmse:13244.59340\n",
            "[11]\tvalidation_0-rmse:12625.67893\n",
            "[12]\tvalidation_0-rmse:12039.26326\n",
            "[13]\tvalidation_0-rmse:11482.41786\n",
            "[14]\tvalidation_0-rmse:10954.21571\n",
            "[15]\tvalidation_0-rmse:10453.88681\n",
            "[16]\tvalidation_0-rmse:9979.99559\n",
            "[17]\tvalidation_0-rmse:9530.50121\n",
            "[18]\tvalidation_0-rmse:9106.40149\n",
            "[19]\tvalidation_0-rmse:8704.63510\n",
            "[20]\tvalidation_0-rmse:8324.51841\n",
            "[21]\tvalidation_0-rmse:7965.08096\n",
            "[22]\tvalidation_0-rmse:7625.63104\n",
            "[23]\tvalidation_0-rmse:7304.94021\n",
            "[24]\tvalidation_0-rmse:7002.50759\n",
            "[25]\tvalidation_0-rmse:6717.13366\n",
            "[26]\tvalidation_0-rmse:6448.45360\n",
            "[27]\tvalidation_0-rmse:6195.36522\n",
            "[28]\tvalidation_0-rmse:5955.11356\n",
            "[29]\tvalidation_0-rmse:5729.84443\n",
            "[30]\tvalidation_0-rmse:5517.56913\n",
            "[31]\tvalidation_0-rmse:5318.59082\n",
            "[32]\tvalidation_0-rmse:5131.03056\n",
            "[33]\tvalidation_0-rmse:4955.94095\n",
            "[34]\tvalidation_0-rmse:4792.44494\n",
            "[35]\tvalidation_0-rmse:4637.66596\n",
            "[36]\tvalidation_0-rmse:4493.35743\n",
            "[37]\tvalidation_0-rmse:4358.91726\n",
            "[38]\tvalidation_0-rmse:4234.12530\n",
            "[39]\tvalidation_0-rmse:4118.10147\n",
            "[40]\tvalidation_0-rmse:4009.53753\n",
            "[41]\tvalidation_0-rmse:3909.31143\n",
            "[42]\tvalidation_0-rmse:3815.76885\n",
            "[43]\tvalidation_0-rmse:3730.39875\n",
            "[44]\tvalidation_0-rmse:3650.43384\n",
            "[45]\tvalidation_0-rmse:3577.40560\n",
            "[46]\tvalidation_0-rmse:3510.10621\n",
            "[47]\tvalidation_0-rmse:3446.90339\n",
            "[48]\tvalidation_0-rmse:3389.86532\n",
            "[49]\tvalidation_0-rmse:3336.08141\n",
            "[50]\tvalidation_0-rmse:3287.35159\n",
            "[51]\tvalidation_0-rmse:3242.59018\n",
            "[52]\tvalidation_0-rmse:3200.82682\n",
            "[53]\tvalidation_0-rmse:3162.53701\n",
            "[54]\tvalidation_0-rmse:3127.64531\n",
            "[55]\tvalidation_0-rmse:3095.90415\n",
            "[56]\tvalidation_0-rmse:3066.90572\n",
            "[57]\tvalidation_0-rmse:3040.22060\n",
            "[58]\tvalidation_0-rmse:3015.65132\n",
            "[59]\tvalidation_0-rmse:2993.83371\n",
            "[60]\tvalidation_0-rmse:2973.38381\n",
            "[61]\tvalidation_0-rmse:2954.18867\n",
            "[62]\tvalidation_0-rmse:2936.63489\n",
            "[63]\tvalidation_0-rmse:2921.26747\n",
            "[64]\tvalidation_0-rmse:2907.00580\n",
            "[65]\tvalidation_0-rmse:2894.18532\n",
            "[66]\tvalidation_0-rmse:2882.76052\n",
            "[67]\tvalidation_0-rmse:2872.23011\n",
            "[68]\tvalidation_0-rmse:2862.36645\n",
            "[69]\tvalidation_0-rmse:2853.88588\n",
            "[70]\tvalidation_0-rmse:2845.74566\n",
            "[71]\tvalidation_0-rmse:2838.34372\n",
            "[72]\tvalidation_0-rmse:2831.65278\n",
            "[73]\tvalidation_0-rmse:2825.53776\n",
            "[74]\tvalidation_0-rmse:2820.56378\n",
            "[75]\tvalidation_0-rmse:2815.38852\n",
            "[76]\tvalidation_0-rmse:2811.40294\n",
            "[77]\tvalidation_0-rmse:2807.40067\n",
            "[78]\tvalidation_0-rmse:2804.44367\n",
            "[79]\tvalidation_0-rmse:2801.60261\n",
            "[80]\tvalidation_0-rmse:2799.49700\n",
            "[81]\tvalidation_0-rmse:2797.24971\n",
            "[82]\tvalidation_0-rmse:2795.92883\n",
            "[83]\tvalidation_0-rmse:2794.42822\n",
            "[84]\tvalidation_0-rmse:2793.57034\n",
            "[85]\tvalidation_0-rmse:2792.75649\n",
            "[86]\tvalidation_0-rmse:2792.18548\n",
            "[87]\tvalidation_0-rmse:2791.31861\n",
            "[88]\tvalidation_0-rmse:2791.36100\n",
            "[89]\tvalidation_0-rmse:2791.45151\n",
            "[90]\tvalidation_0-rmse:2791.37918\n",
            "[91]\tvalidation_0-rmse:2791.53220\n",
            "[92]\tvalidation_0-rmse:2791.39824\n",
            "[93]\tvalidation_0-rmse:2791.55876\n",
            "[94]\tvalidation_0-rmse:2791.76204\n",
            "[95]\tvalidation_0-rmse:2792.16906\n",
            "[96]\tvalidation_0-rmse:2792.61112\n",
            "[97]\tvalidation_0-rmse:2793.47039\n",
            "[98]\tvalidation_0-rmse:2794.50528\n",
            "[99]\tvalidation_0-rmse:2795.86623\n",
            "[100]\tvalidation_0-rmse:2796.73782\n",
            "[101]\tvalidation_0-rmse:2797.87673\n",
            "[102]\tvalidation_0-rmse:2798.96411\n",
            "[103]\tvalidation_0-rmse:2799.52482\n",
            "[104]\tvalidation_0-rmse:2800.25301\n",
            "[105]\tvalidation_0-rmse:2800.98475\n",
            "[106]\tvalidation_0-rmse:2801.78280\n",
            "[107]\tvalidation_0-rmse:2802.67720\n",
            "[108]\tvalidation_0-rmse:2803.70514\n",
            "[109]\tvalidation_0-rmse:2804.47105\n",
            "[110]\tvalidation_0-rmse:2805.35637\n",
            "[111]\tvalidation_0-rmse:2805.98150\n",
            "[112]\tvalidation_0-rmse:2806.57946\n",
            "[113]\tvalidation_0-rmse:2807.54798\n",
            "[114]\tvalidation_0-rmse:2808.39615\n",
            "[115]\tvalidation_0-rmse:2809.16866\n",
            "[116]\tvalidation_0-rmse:2810.19051\n",
            "[117]\tvalidation_0-rmse:2810.97150\n",
            "[118]\tvalidation_0-rmse:2811.79612\n",
            "[119]\tvalidation_0-rmse:2812.53677\n",
            "[120]\tvalidation_0-rmse:2813.52007\n",
            "[121]\tvalidation_0-rmse:2814.47680\n",
            "[122]\tvalidation_0-rmse:2815.28878\n",
            "[123]\tvalidation_0-rmse:2816.05234\n",
            "[124]\tvalidation_0-rmse:2816.73533\n",
            "[125]\tvalidation_0-rmse:2817.58563\n",
            "[126]\tvalidation_0-rmse:2818.40208\n",
            "[127]\tvalidation_0-rmse:2819.19496\n",
            "[128]\tvalidation_0-rmse:2819.92994\n",
            "[129]\tvalidation_0-rmse:2820.78386\n",
            "[130]\tvalidation_0-rmse:2821.65916\n",
            "[131]\tvalidation_0-rmse:2822.37380\n",
            "[132]\tvalidation_0-rmse:2823.02523\n",
            "[133]\tvalidation_0-rmse:2823.62246\n",
            "[134]\tvalidation_0-rmse:2824.39212\n",
            "[135]\tvalidation_0-rmse:2825.04537\n",
            "[136]\tvalidation_0-rmse:2825.71899\n",
            "[137]\tvalidation_0-rmse:2826.42188\n"
          ]
        },
        {
          "data": {
            "text/html": [
              "<style>#sk-container-id-8 {\n",
              "  /* Definition of color scheme common for light and dark mode */\n",
              "  --sklearn-color-text: black;\n",
              "  --sklearn-color-line: gray;\n",
              "  /* Definition of color scheme for unfitted estimators */\n",
              "  --sklearn-color-unfitted-level-0: #fff5e6;\n",
              "  --sklearn-color-unfitted-level-1: #f6e4d2;\n",
              "  --sklearn-color-unfitted-level-2: #ffe0b3;\n",
              "  --sklearn-color-unfitted-level-3: chocolate;\n",
              "  /* Definition of color scheme for fitted estimators */\n",
              "  --sklearn-color-fitted-level-0: #f0f8ff;\n",
              "  --sklearn-color-fitted-level-1: #d4ebff;\n",
              "  --sklearn-color-fitted-level-2: #b3dbfd;\n",
              "  --sklearn-color-fitted-level-3: cornflowerblue;\n",
              "\n",
              "  /* Specific color for light theme */\n",
              "  --sklearn-color-text-on-default-background: var(--sg-text-color, var(--theme-code-foreground, var(--jp-content-font-color1, black)));\n",
              "  --sklearn-color-background: var(--sg-background-color, var(--theme-background, var(--jp-layout-color0, white)));\n",
              "  --sklearn-color-border-box: var(--sg-text-color, var(--theme-code-foreground, var(--jp-content-font-color1, black)));\n",
              "  --sklearn-color-icon: #696969;\n",
              "\n",
              "  @media (prefers-color-scheme: dark) {\n",
              "    /* Redefinition of color scheme for dark theme */\n",
              "    --sklearn-color-text-on-default-background: var(--sg-text-color, var(--theme-code-foreground, var(--jp-content-font-color1, white)));\n",
              "    --sklearn-color-background: var(--sg-background-color, var(--theme-background, var(--jp-layout-color0, #111)));\n",
              "    --sklearn-color-border-box: var(--sg-text-color, var(--theme-code-foreground, var(--jp-content-font-color1, white)));\n",
              "    --sklearn-color-icon: #878787;\n",
              "  }\n",
              "}\n",
              "\n",
              "#sk-container-id-8 {\n",
              "  color: var(--sklearn-color-text);\n",
              "}\n",
              "\n",
              "#sk-container-id-8 pre {\n",
              "  padding: 0;\n",
              "}\n",
              "\n",
              "#sk-container-id-8 input.sk-hidden--visually {\n",
              "  border: 0;\n",
              "  clip: rect(1px 1px 1px 1px);\n",
              "  clip: rect(1px, 1px, 1px, 1px);\n",
              "  height: 1px;\n",
              "  margin: -1px;\n",
              "  overflow: hidden;\n",
              "  padding: 0;\n",
              "  position: absolute;\n",
              "  width: 1px;\n",
              "}\n",
              "\n",
              "#sk-container-id-8 div.sk-dashed-wrapped {\n",
              "  border: 1px dashed var(--sklearn-color-line);\n",
              "  margin: 0 0.4em 0.5em 0.4em;\n",
              "  box-sizing: border-box;\n",
              "  padding-bottom: 0.4em;\n",
              "  background-color: var(--sklearn-color-background);\n",
              "}\n",
              "\n",
              "#sk-container-id-8 div.sk-container {\n",
              "  /* jupyter's `normalize.less` sets `[hidden] { display: none; }`\n",
              "     but bootstrap.min.css set `[hidden] { display: none !important; }`\n",
              "     so we also need the `!important` here to be able to override the\n",
              "     default hidden behavior on the sphinx rendered scikit-learn.org.\n",
              "     See: https://github.com/scikit-learn/scikit-learn/issues/21755 */\n",
              "  display: inline-block !important;\n",
              "  position: relative;\n",
              "}\n",
              "\n",
              "#sk-container-id-8 div.sk-text-repr-fallback {\n",
              "  display: none;\n",
              "}\n",
              "\n",
              "div.sk-parallel-item,\n",
              "div.sk-serial,\n",
              "div.sk-item {\n",
              "  /* draw centered vertical line to link estimators */\n",
              "  background-image: linear-gradient(var(--sklearn-color-text-on-default-background), var(--sklearn-color-text-on-default-background));\n",
              "  background-size: 2px 100%;\n",
              "  background-repeat: no-repeat;\n",
              "  background-position: center center;\n",
              "}\n",
              "\n",
              "/* Parallel-specific style estimator block */\n",
              "\n",
              "#sk-container-id-8 div.sk-parallel-item::after {\n",
              "  content: \"\";\n",
              "  width: 100%;\n",
              "  border-bottom: 2px solid var(--sklearn-color-text-on-default-background);\n",
              "  flex-grow: 1;\n",
              "}\n",
              "\n",
              "#sk-container-id-8 div.sk-parallel {\n",
              "  display: flex;\n",
              "  align-items: stretch;\n",
              "  justify-content: center;\n",
              "  background-color: var(--sklearn-color-background);\n",
              "  position: relative;\n",
              "}\n",
              "\n",
              "#sk-container-id-8 div.sk-parallel-item {\n",
              "  display: flex;\n",
              "  flex-direction: column;\n",
              "}\n",
              "\n",
              "#sk-container-id-8 div.sk-parallel-item:first-child::after {\n",
              "  align-self: flex-end;\n",
              "  width: 50%;\n",
              "}\n",
              "\n",
              "#sk-container-id-8 div.sk-parallel-item:last-child::after {\n",
              "  align-self: flex-start;\n",
              "  width: 50%;\n",
              "}\n",
              "\n",
              "#sk-container-id-8 div.sk-parallel-item:only-child::after {\n",
              "  width: 0;\n",
              "}\n",
              "\n",
              "/* Serial-specific style estimator block */\n",
              "\n",
              "#sk-container-id-8 div.sk-serial {\n",
              "  display: flex;\n",
              "  flex-direction: column;\n",
              "  align-items: center;\n",
              "  background-color: var(--sklearn-color-background);\n",
              "  padding-right: 1em;\n",
              "  padding-left: 1em;\n",
              "}\n",
              "\n",
              "\n",
              "/* Toggleable style: style used for estimator/Pipeline/ColumnTransformer box that is\n",
              "clickable and can be expanded/collapsed.\n",
              "- Pipeline and ColumnTransformer use this feature and define the default style\n",
              "- Estimators will overwrite some part of the style using the `sk-estimator` class\n",
              "*/\n",
              "\n",
              "/* Pipeline and ColumnTransformer style (default) */\n",
              "\n",
              "#sk-container-id-8 div.sk-toggleable {\n",
              "  /* Default theme specific background. It is overwritten whether we have a\n",
              "  specific estimator or a Pipeline/ColumnTransformer */\n",
              "  background-color: var(--sklearn-color-background);\n",
              "}\n",
              "\n",
              "/* Toggleable label */\n",
              "#sk-container-id-8 label.sk-toggleable__label {\n",
              "  cursor: pointer;\n",
              "  display: block;\n",
              "  width: 100%;\n",
              "  margin-bottom: 0;\n",
              "  padding: 0.5em;\n",
              "  box-sizing: border-box;\n",
              "  text-align: center;\n",
              "}\n",
              "\n",
              "#sk-container-id-8 label.sk-toggleable__label-arrow:before {\n",
              "  /* Arrow on the left of the label */\n",
              "  content: \"▸\";\n",
              "  float: left;\n",
              "  margin-right: 0.25em;\n",
              "  color: var(--sklearn-color-icon);\n",
              "}\n",
              "\n",
              "#sk-container-id-8 label.sk-toggleable__label-arrow:hover:before {\n",
              "  color: var(--sklearn-color-text);\n",
              "}\n",
              "\n",
              "/* Toggleable content - dropdown */\n",
              "\n",
              "#sk-container-id-8 div.sk-toggleable__content {\n",
              "  max-height: 0;\n",
              "  max-width: 0;\n",
              "  overflow: hidden;\n",
              "  text-align: left;\n",
              "  /* unfitted */\n",
              "  background-color: var(--sklearn-color-unfitted-level-0);\n",
              "}\n",
              "\n",
              "#sk-container-id-8 div.sk-toggleable__content.fitted {\n",
              "  /* fitted */\n",
              "  background-color: var(--sklearn-color-fitted-level-0);\n",
              "}\n",
              "\n",
              "#sk-container-id-8 div.sk-toggleable__content pre {\n",
              "  margin: 0.2em;\n",
              "  border-radius: 0.25em;\n",
              "  color: var(--sklearn-color-text);\n",
              "  /* unfitted */\n",
              "  background-color: var(--sklearn-color-unfitted-level-0);\n",
              "}\n",
              "\n",
              "#sk-container-id-8 div.sk-toggleable__content.fitted pre {\n",
              "  /* unfitted */\n",
              "  background-color: var(--sklearn-color-fitted-level-0);\n",
              "}\n",
              "\n",
              "#sk-container-id-8 input.sk-toggleable__control:checked~div.sk-toggleable__content {\n",
              "  /* Expand drop-down */\n",
              "  max-height: 200px;\n",
              "  max-width: 100%;\n",
              "  overflow: auto;\n",
              "}\n",
              "\n",
              "#sk-container-id-8 input.sk-toggleable__control:checked~label.sk-toggleable__label-arrow:before {\n",
              "  content: \"▾\";\n",
              "}\n",
              "\n",
              "/* Pipeline/ColumnTransformer-specific style */\n",
              "\n",
              "#sk-container-id-8 div.sk-label input.sk-toggleable__control:checked~label.sk-toggleable__label {\n",
              "  color: var(--sklearn-color-text);\n",
              "  background-color: var(--sklearn-color-unfitted-level-2);\n",
              "}\n",
              "\n",
              "#sk-container-id-8 div.sk-label.fitted input.sk-toggleable__control:checked~label.sk-toggleable__label {\n",
              "  background-color: var(--sklearn-color-fitted-level-2);\n",
              "}\n",
              "\n",
              "/* Estimator-specific style */\n",
              "\n",
              "/* Colorize estimator box */\n",
              "#sk-container-id-8 div.sk-estimator input.sk-toggleable__control:checked~label.sk-toggleable__label {\n",
              "  /* unfitted */\n",
              "  background-color: var(--sklearn-color-unfitted-level-2);\n",
              "}\n",
              "\n",
              "#sk-container-id-8 div.sk-estimator.fitted input.sk-toggleable__control:checked~label.sk-toggleable__label {\n",
              "  /* fitted */\n",
              "  background-color: var(--sklearn-color-fitted-level-2);\n",
              "}\n",
              "\n",
              "#sk-container-id-8 div.sk-label label.sk-toggleable__label,\n",
              "#sk-container-id-8 div.sk-label label {\n",
              "  /* The background is the default theme color */\n",
              "  color: var(--sklearn-color-text-on-default-background);\n",
              "}\n",
              "\n",
              "/* On hover, darken the color of the background */\n",
              "#sk-container-id-8 div.sk-label:hover label.sk-toggleable__label {\n",
              "  color: var(--sklearn-color-text);\n",
              "  background-color: var(--sklearn-color-unfitted-level-2);\n",
              "}\n",
              "\n",
              "/* Label box, darken color on hover, fitted */\n",
              "#sk-container-id-8 div.sk-label.fitted:hover label.sk-toggleable__label.fitted {\n",
              "  color: var(--sklearn-color-text);\n",
              "  background-color: var(--sklearn-color-fitted-level-2);\n",
              "}\n",
              "\n",
              "/* Estimator label */\n",
              "\n",
              "#sk-container-id-8 div.sk-label label {\n",
              "  font-family: monospace;\n",
              "  font-weight: bold;\n",
              "  display: inline-block;\n",
              "  line-height: 1.2em;\n",
              "}\n",
              "\n",
              "#sk-container-id-8 div.sk-label-container {\n",
              "  text-align: center;\n",
              "}\n",
              "\n",
              "/* Estimator-specific */\n",
              "#sk-container-id-8 div.sk-estimator {\n",
              "  font-family: monospace;\n",
              "  border: 1px dotted var(--sklearn-color-border-box);\n",
              "  border-radius: 0.25em;\n",
              "  box-sizing: border-box;\n",
              "  margin-bottom: 0.5em;\n",
              "  /* unfitted */\n",
              "  background-color: var(--sklearn-color-unfitted-level-0);\n",
              "}\n",
              "\n",
              "#sk-container-id-8 div.sk-estimator.fitted {\n",
              "  /* fitted */\n",
              "  background-color: var(--sklearn-color-fitted-level-0);\n",
              "}\n",
              "\n",
              "/* on hover */\n",
              "#sk-container-id-8 div.sk-estimator:hover {\n",
              "  /* unfitted */\n",
              "  background-color: var(--sklearn-color-unfitted-level-2);\n",
              "}\n",
              "\n",
              "#sk-container-id-8 div.sk-estimator.fitted:hover {\n",
              "  /* fitted */\n",
              "  background-color: var(--sklearn-color-fitted-level-2);\n",
              "}\n",
              "\n",
              "/* Specification for estimator info (e.g. \"i\" and \"?\") */\n",
              "\n",
              "/* Common style for \"i\" and \"?\" */\n",
              "\n",
              ".sk-estimator-doc-link,\n",
              "a:link.sk-estimator-doc-link,\n",
              "a:visited.sk-estimator-doc-link {\n",
              "  float: right;\n",
              "  font-size: smaller;\n",
              "  line-height: 1em;\n",
              "  font-family: monospace;\n",
              "  background-color: var(--sklearn-color-background);\n",
              "  border-radius: 1em;\n",
              "  height: 1em;\n",
              "  width: 1em;\n",
              "  text-decoration: none !important;\n",
              "  margin-left: 1ex;\n",
              "  /* unfitted */\n",
              "  border: var(--sklearn-color-unfitted-level-1) 1pt solid;\n",
              "  color: var(--sklearn-color-unfitted-level-1);\n",
              "}\n",
              "\n",
              ".sk-estimator-doc-link.fitted,\n",
              "a:link.sk-estimator-doc-link.fitted,\n",
              "a:visited.sk-estimator-doc-link.fitted {\n",
              "  /* fitted */\n",
              "  border: var(--sklearn-color-fitted-level-1) 1pt solid;\n",
              "  color: var(--sklearn-color-fitted-level-1);\n",
              "}\n",
              "\n",
              "/* On hover */\n",
              "div.sk-estimator:hover .sk-estimator-doc-link:hover,\n",
              ".sk-estimator-doc-link:hover,\n",
              "div.sk-label-container:hover .sk-estimator-doc-link:hover,\n",
              ".sk-estimator-doc-link:hover {\n",
              "  /* unfitted */\n",
              "  background-color: var(--sklearn-color-unfitted-level-3);\n",
              "  color: var(--sklearn-color-background);\n",
              "  text-decoration: none;\n",
              "}\n",
              "\n",
              "div.sk-estimator.fitted:hover .sk-estimator-doc-link.fitted:hover,\n",
              ".sk-estimator-doc-link.fitted:hover,\n",
              "div.sk-label-container:hover .sk-estimator-doc-link.fitted:hover,\n",
              ".sk-estimator-doc-link.fitted:hover {\n",
              "  /* fitted */\n",
              "  background-color: var(--sklearn-color-fitted-level-3);\n",
              "  color: var(--sklearn-color-background);\n",
              "  text-decoration: none;\n",
              "}\n",
              "\n",
              "/* Span, style for the box shown on hovering the info icon */\n",
              ".sk-estimator-doc-link span {\n",
              "  display: none;\n",
              "  z-index: 9999;\n",
              "  position: relative;\n",
              "  font-weight: normal;\n",
              "  right: .2ex;\n",
              "  padding: .5ex;\n",
              "  margin: .5ex;\n",
              "  width: min-content;\n",
              "  min-width: 20ex;\n",
              "  max-width: 50ex;\n",
              "  color: var(--sklearn-color-text);\n",
              "  box-shadow: 2pt 2pt 4pt #999;\n",
              "  /* unfitted */\n",
              "  background: var(--sklearn-color-unfitted-level-0);\n",
              "  border: .5pt solid var(--sklearn-color-unfitted-level-3);\n",
              "}\n",
              "\n",
              ".sk-estimator-doc-link.fitted span {\n",
              "  /* fitted */\n",
              "  background: var(--sklearn-color-fitted-level-0);\n",
              "  border: var(--sklearn-color-fitted-level-3);\n",
              "}\n",
              "\n",
              ".sk-estimator-doc-link:hover span {\n",
              "  display: block;\n",
              "}\n",
              "\n",
              "/* \"?\"-specific style due to the `<a>` HTML tag */\n",
              "\n",
              "#sk-container-id-8 a.estimator_doc_link {\n",
              "  float: right;\n",
              "  font-size: 1rem;\n",
              "  line-height: 1em;\n",
              "  font-family: monospace;\n",
              "  background-color: var(--sklearn-color-background);\n",
              "  border-radius: 1rem;\n",
              "  height: 1rem;\n",
              "  width: 1rem;\n",
              "  text-decoration: none;\n",
              "  /* unfitted */\n",
              "  color: var(--sklearn-color-unfitted-level-1);\n",
              "  border: var(--sklearn-color-unfitted-level-1) 1pt solid;\n",
              "}\n",
              "\n",
              "#sk-container-id-8 a.estimator_doc_link.fitted {\n",
              "  /* fitted */\n",
              "  border: var(--sklearn-color-fitted-level-1) 1pt solid;\n",
              "  color: var(--sklearn-color-fitted-level-1);\n",
              "}\n",
              "\n",
              "/* On hover */\n",
              "#sk-container-id-8 a.estimator_doc_link:hover {\n",
              "  /* unfitted */\n",
              "  background-color: var(--sklearn-color-unfitted-level-3);\n",
              "  color: var(--sklearn-color-background);\n",
              "  text-decoration: none;\n",
              "}\n",
              "\n",
              "#sk-container-id-8 a.estimator_doc_link.fitted:hover {\n",
              "  /* fitted */\n",
              "  background-color: var(--sklearn-color-fitted-level-3);\n",
              "}\n",
              "</style><div id=\"sk-container-id-8\" class=\"sk-top-container\"><div class=\"sk-text-repr-fallback\"><pre>XGBRegressor(base_score=None, booster=None, callbacks=None,\n",
              "             colsample_bylevel=None, colsample_bynode=None,\n",
              "             colsample_bytree=None, device=None, early_stopping_rounds=50,\n",
              "             enable_categorical=False, eval_metric=None, feature_types=None,\n",
              "             feature_weights=None, gamma=None, grow_policy=None,\n",
              "             importance_type=None, interaction_constraints=None,\n",
              "             learning_rate=0.05, max_bin=None, max_cat_threshold=None,\n",
              "             max_cat_to_onehot=None, max_delta_step=None, max_depth=25,\n",
              "             max_leaves=None, min_child_weight=None, missing=nan,\n",
              "             monotone_constraints=None, multi_strategy=None, n_estimators=1000,\n",
              "             n_jobs=-1, num_parallel_tree=None, ...)</pre><b>In a Jupyter environment, please rerun this cell to show the HTML representation or trust the notebook. <br />On GitHub, the HTML representation is unable to render, please try loading this page with nbviewer.org.</b></div><div class=\"sk-container\" hidden><div class=\"sk-item\"><div class=\"sk-estimator fitted sk-toggleable\"><input class=\"sk-toggleable__control sk-hidden--visually\" id=\"sk-estimator-id-8\" type=\"checkbox\" checked><label for=\"sk-estimator-id-8\" class=\"sk-toggleable__label fitted sk-toggleable__label-arrow fitted\">&nbsp;&nbsp;XGBRegressor<a class=\"sk-estimator-doc-link fitted\" rel=\"noreferrer\" target=\"_blank\" href=\"https://xgboost.readthedocs.io/en/release_3.0.0/python/python_api.html#xgboost.XGBRegressor\">?<span>Documentation for XGBRegressor</span></a><span class=\"sk-estimator-doc-link fitted\">i<span>Fitted</span></span></label><div class=\"sk-toggleable__content fitted\"><pre>XGBRegressor(base_score=None, booster=None, callbacks=None,\n",
              "             colsample_bylevel=None, colsample_bynode=None,\n",
              "             colsample_bytree=None, device=None, early_stopping_rounds=50,\n",
              "             enable_categorical=False, eval_metric=None, feature_types=None,\n",
              "             feature_weights=None, gamma=None, grow_policy=None,\n",
              "             importance_type=None, interaction_constraints=None,\n",
              "             learning_rate=0.05, max_bin=None, max_cat_threshold=None,\n",
              "             max_cat_to_onehot=None, max_delta_step=None, max_depth=25,\n",
              "             max_leaves=None, min_child_weight=None, missing=nan,\n",
              "             monotone_constraints=None, multi_strategy=None, n_estimators=1000,\n",
              "             n_jobs=-1, num_parallel_tree=None, ...)</pre></div> </div></div></div></div>"
            ],
            "text/plain": [
              "XGBRegressor(base_score=None, booster=None, callbacks=None,\n",
              "             colsample_bylevel=None, colsample_bynode=None,\n",
              "             colsample_bytree=None, device=None, early_stopping_rounds=50,\n",
              "             enable_categorical=False, eval_metric=None, feature_types=None,\n",
              "             feature_weights=None, gamma=None, grow_policy=None,\n",
              "             importance_type=None, interaction_constraints=None,\n",
              "             learning_rate=0.05, max_bin=None, max_cat_threshold=None,\n",
              "             max_cat_to_onehot=None, max_delta_step=None, max_depth=25,\n",
              "             max_leaves=None, min_child_weight=None, missing=nan,\n",
              "             monotone_constraints=None, multi_strategy=None, n_estimators=1000,\n",
              "             n_jobs=-1, num_parallel_tree=None, ...)"
            ]
          },
          "execution_count": 83,
          "metadata": {},
          "output_type": "execute_result"
        }
      ],
      "source": [
        "xgb_model = xgb.XGBRegressor(\n",
        "    n_estimators=1000,\n",
        "    learning_rate=0.05,\n",
        "    max_depth=25,\n",
        "    random_state=42,\n",
        "    n_jobs=-1,\n",
        "    early_stopping_rounds=50 # Stop if validation score doesn't improve\n",
        ")\n",
        "\n",
        "xgb_model.fit(x_train_scaled, y_train, eval_set=[(x_test_scaled, y_test)], verbose=True)"
      ]
    },
    {
      "cell_type": "code",
      "execution_count": 84,
      "id": "3058f19d",
      "metadata": {},
      "outputs": [
        {
          "data": {
            "image/png": "[encoded data removed]",
            "text/plain": [
              "<Figure size 1000x600 with 1 Axes>"
            ]
          },
          "metadata": {},
          "output_type": "display_data"
        }
      ],
      "source": [
        "xgb_predictions = xgb_model.predict(x_test_scaled)\n",
        "\n",
        "plot_predictions(y_test, xgb_predictions)"
      ]
    },
    {
      "cell_type": "code",
      "execution_count": 85,
      "id": "854f8ce1",
      "metadata": {},
      "outputs": [
        {
          "data": {
            "text/plain": [
              "np.float64(1205.3962186939905)"
            ]
          },
          "execution_count": 85,
          "metadata": {},
          "output_type": "execute_result"
        }
      ],
      "source": [
        "mean_absolute_error(y_test, xgb_predictions)"
      ]
    },
    {
      "cell_type": "code",
      "execution_count": 86,
      "id": "b61ada7a",
      "metadata": {},
      "outputs": [
        {
          "data": {
            "text/plain": [
              "0.9848850965499878"
            ]
          },
          "execution_count": 86,
          "metadata": {},
          "output_type": "execute_result"
        }
      ],
      "source": [
        "r2_score(y_test, xgb_predictions)"
      ]
    },
    {
      "cell_type": "code",
      "execution_count": 87,
      "id": "7022a109",
      "metadata": {},
      "outputs": [
        {
          "data": {
            "text/plain": [
              "np.float64(1127.4580133751972)"
            ]
          },
          "execution_count": 87,
          "metadata": {},
          "output_type": "execute_result"
        }
      ],
      "source": [
        "ensemble_predictions = (rf_predictions + xgb_predictions) / 2\n",
        "mean_absolute_error(y_test, ensemble_predictions)"
      ]
    },
    {
      "cell_type": "code",
      "execution_count": 88,
      "id": "df2b4de9",
      "metadata": {},
      "outputs": [
        {
          "data": {
            "text/plain": [
              "0.9859740132031173"
            ]
          },
          "execution_count": 88,
          "metadata": {},
          "output_type": "execute_result"
        }
      ],
      "source": [
        "r2_score(y_test, ensemble_predictions)"
      ]
    }
  ],
  "metadata": {
    "colab": {
      "provenance": []
    },
    "kernelspec": {
      "display_name": "Python 3",
      "name": "python3"
    },
    "language_info": {
      "name": "python"
    }
  },
  "nbformat": 4,
  "nbformat_minor": 5
}
